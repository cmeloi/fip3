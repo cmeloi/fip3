{
 "cells": [
  {
   "cell_type": "markdown",
   "metadata": {},
   "source": [
    "# Basic feature interrelation analysis using the 'fip3' library"
   ]
  },
  {
   "cell_type": "code",
   "execution_count": 1,
   "metadata": {},
   "outputs": [],
   "source": [
    "import pandas as pd\n",
    "import seaborn as sns\n",
    "import matplotlib.pyplot as plt\n",
    "import networkx as nx\n",
    "import csv\n",
    "\n",
    "from fip import profiles"
   ]
  },
  {
   "cell_type": "code",
   "execution_count": 2,
   "metadata": {},
   "outputs": [],
   "source": [
    "DATASET_NAME = 'ChEMBL28'\n",
    "DATASET_LINK = '../../scratch/data/chembl_28/chembl_compounds_activities_features.csv'\n",
    "OUTPUT_FIGURE_PATH = '../../scratch/data/chembl_28/pix'\n",
    "\n",
    "FEATURES_NAME = 'ECFP1-like substructures'\n",
    "COOCCURRENCE_MX_LINK = '../../scratch/data/chembl_28/ec_fragments_r1_coomx.csv'\n",
    "COOCCURRENCE_MX_VECTOR_COUNT = 2066376\n",
    "\n",
    "HYBRID_FEATURES_NAME = FEATURES_NAME + \" and ChEMBL activities\"\n",
    "HYBRID_COOCCURRENCE_MX_LINK = '../../scratch/data/chembl_28/ec_fragments_r1_activities_coomx.csv'\n",
    "HYBRID_COOCCURRENCE_MX_VECTOR_COUNT = COOCCURRENCE_MX_VECTOR_COUNT\n",
    "\n",
    "REFERENCE_DATASET_NAME = 'ZINC_DM'\n",
    "REFERENCE_DATASET_LINK = '../../scratch/data/zinc_dark_matter/zinc_dm_in_stock_features.csv'\n",
    "REFERENCE_COOCCURRENCE_MX_LINK = '../../scratch/data/zinc_dark_matter/zinc_dm_in_stock_ec_fragments_r1_coomx.csv'\n",
    "REFERENCE_COOCCURRENCE_MX_VECTOR_COUNT = 5063486\n",
    "\n",
    "MINIMAL_COOCCURRENCE_CUTOFF = 10  # How many co-occurrences are needed to start tracking the relation"
   ]
  },
  {
   "cell_type": "markdown",
   "metadata": {},
   "source": [
    "## Loading interrelation profiles\n",
    "From interrelation files already preprocessed by scripts in fip3/scripts"
   ]
  },
  {
   "cell_type": "code",
   "execution_count": 3,
   "metadata": {},
   "outputs": [
    {
     "data": {
      "text/plain": [
       "<fip.profiles.CooccurrenceProfile at 0x7faee6ca4b10>"
      ]
     },
     "execution_count": 3,
     "metadata": {},
     "output_type": "execute_result"
    }
   ],
   "source": [
    "p = profiles.CooccurrenceProfile.from_dataframe(\n",
    "    pd.read_csv(COOCCURRENCE_MX_LINK), min_cutoff_value=MINIMAL_COOCCURRENCE_CUTOFF)\n",
    "p"
   ]
  },
  {
   "cell_type": "code",
   "execution_count": 4,
   "metadata": {
    "scrolled": false
   },
   "outputs": [
    {
     "data": {
      "text/html": [
       "<div>\n",
       "<style scoped>\n",
       "    .dataframe tbody tr th:only-of-type {\n",
       "        vertical-align: middle;\n",
       "    }\n",
       "\n",
       "    .dataframe tbody tr th {\n",
       "        vertical-align: top;\n",
       "    }\n",
       "\n",
       "    .dataframe thead th {\n",
       "        text-align: right;\n",
       "    }\n",
       "</style>\n",
       "<table border=\"1\" class=\"dataframe\">\n",
       "  <thead>\n",
       "    <tr style=\"text-align: right;\">\n",
       "      <th></th>\n",
       "      <th></th>\n",
       "      <th>value</th>\n",
       "    </tr>\n",
       "    <tr>\n",
       "      <th>feature1</th>\n",
       "      <th>feature2</th>\n",
       "      <th></th>\n",
       "    </tr>\n",
       "  </thead>\n",
       "  <tbody>\n",
       "    <tr>\n",
       "      <th rowspan=\"5\" valign=\"top\">C=O</th>\n",
       "      <th>C=O</th>\n",
       "      <td>1424230</td>\n",
       "    </tr>\n",
       "    <tr>\n",
       "      <th>Cc(c)c</th>\n",
       "      <td>624876</td>\n",
       "    </tr>\n",
       "    <tr>\n",
       "      <th>c-n(c)n</th>\n",
       "      <td>37580</td>\n",
       "    </tr>\n",
       "    <tr>\n",
       "      <th>c=O</th>\n",
       "      <td>120205</td>\n",
       "    </tr>\n",
       "    <tr>\n",
       "      <th>cC</th>\n",
       "      <td>273990</td>\n",
       "    </tr>\n",
       "    <tr>\n",
       "      <th>...</th>\n",
       "      <th>...</th>\n",
       "      <td>...</td>\n",
       "    </tr>\n",
       "    <tr>\n",
       "      <th>c=C(N)O</th>\n",
       "      <th>ccn</th>\n",
       "      <td>11</td>\n",
       "    </tr>\n",
       "    <tr>\n",
       "      <th>C=NN</th>\n",
       "      <th>C=c</th>\n",
       "      <td>11</td>\n",
       "    </tr>\n",
       "    <tr>\n",
       "      <th>C=c</th>\n",
       "      <th>CNN</th>\n",
       "      <td>11</td>\n",
       "    </tr>\n",
       "    <tr>\n",
       "      <th>c-c(n)s</th>\n",
       "      <th>nc(-n)[nH]</th>\n",
       "      <td>10</td>\n",
       "    </tr>\n",
       "    <tr>\n",
       "      <th>CCI</th>\n",
       "      <th>NS(=O)(=O)O</th>\n",
       "      <td>13</td>\n",
       "    </tr>\n",
       "  </tbody>\n",
       "</table>\n",
       "<p>112129 rows × 1 columns</p>\n",
       "</div>"
      ],
      "text/plain": [
       "                        value\n",
       "feature1 feature2            \n",
       "C=O      C=O          1424230\n",
       "         Cc(c)c        624876\n",
       "         c-n(c)n        37580\n",
       "         c=O           120205\n",
       "         cC            273990\n",
       "...                       ...\n",
       "c=C(N)O  ccn               11\n",
       "C=NN     C=c               11\n",
       "C=c      CNN               11\n",
       "c-c(n)s  nc(-n)[nH]        10\n",
       "CCI      NS(=O)(=O)O       13\n",
       "\n",
       "[112129 rows x 1 columns]"
      ]
     },
     "execution_count": 4,
     "metadata": {},
     "output_type": "execute_result"
    }
   ],
   "source": [
    "p.df"
   ]
  },
  {
   "cell_type": "markdown",
   "metadata": {},
   "source": [
    "## General characterization of a co-occurrence profile"
   ]
  },
  {
   "cell_type": "code",
   "execution_count": 5,
   "metadata": {},
   "outputs": [
    {
     "name": "stdout",
     "output_type": "stream",
     "text": [
      "There are 1640 distinct ECFP1-like substructures within ChEMBL28.\n"
     ]
    }
   ],
   "source": [
    "print(f\"There are {len(p.distinct_features())} distinct {FEATURES_NAME} within {DATASET_NAME}.\")"
   ]
  },
  {
   "cell_type": "code",
   "execution_count": 6,
   "metadata": {},
   "outputs": [
    {
     "data": {
      "text/plain": [
       "feature1    feature2  \n",
       "C=O         C=O           1424230\n",
       "Cc(c)c      Cc(c)c         717878\n",
       "c-n(c)n     c-n(c)n         55340\n",
       "c=O         c=O            222434\n",
       "cC          cC             408262\n",
       "                           ...   \n",
       "cC[Te]      cC[Te]             10\n",
       "BO[Si]      BO[Si]             22\n",
       "NC(=O)[S-]  NC(=O)[S-]         15\n",
       "[N+][N-]S   [N+][N-]S          20\n",
       "BC(c)=C     BC(c)=C            14\n",
       "Name: value, Length: 1640, dtype: int64"
      ]
     },
     "execution_count": 6,
     "metadata": {},
     "output_type": "execute_result"
    }
   ],
   "source": [
    "self_relations_values = p.select_self_relations()['value']\n",
    "self_relations_values"
   ]
  },
  {
   "cell_type": "code",
   "execution_count": 7,
   "metadata": {},
   "outputs": [
    {
     "data": {
      "image/png": "[encoded data removed]",
      "text/plain": [
       "<Figure size 842.4x595.44 with 1 Axes>"
      ]
     },
     "metadata": {},
     "output_type": "display_data"
    }
   ],
   "source": [
    "title = f\"Stand-alone {FEATURES_NAME} occurrence in {DATASET_NAME}\"\n",
    "a4_dims = (11.7, 8.27)\n",
    "sns.set_style(\"whitegrid\")\n",
    "fig, ax = plt.subplots(figsize=a4_dims)\n",
    "sns.histplot(self_relations_values, log_scale=True, discrete=True)\n",
    "ax.set(title=title, xlabel=f\"Stand-alone occurrence count within {DATASET_NAME}\", ylabel=f\"{FEATURES_NAME}\")\n",
    "plt.savefig(f\"{OUTPUT_FIGURE_PATH}/{title}.svg\", format=\"svg\")\n",
    "#plt.close()"
   ]
  },
  {
   "cell_type": "code",
   "execution_count": 8,
   "metadata": {},
   "outputs": [
    {
     "data": {
      "text/plain": [
       "feature1  feature2   \n",
       "C=O       Cc(c)c         624876\n",
       "          c-n(c)n         37580\n",
       "          c=O            120205\n",
       "          cC             273990\n",
       "          cC(c)=O         30748\n",
       "                          ...  \n",
       "c=C(N)O   ccn                11\n",
       "C=NN      C=c                11\n",
       "C=c       CNN                11\n",
       "c-c(n)s   nc(-n)[nH]         10\n",
       "CCI       NS(=O)(=O)O        13\n",
       "Name: value, Length: 110489, dtype: int64"
      ]
     },
     "execution_count": 8,
     "metadata": {},
     "output_type": "execute_result"
    }
   ],
   "source": [
    "cooccurrence_values = p.select_raw_interrelations()['value']\n",
    "cooccurrence_values"
   ]
  },
  {
   "cell_type": "code",
   "execution_count": 9,
   "metadata": {},
   "outputs": [
    {
     "name": "stdout",
     "output_type": "stream",
     "text": [
      "There is in total 33715089 feature stand-alone occurrences and 279126440 feature co-occurrences for ECFP1-like substructures within ChEMBL28\n"
     ]
    }
   ],
   "source": [
    "print(f\"There is in total {self_relations_values.sum()} feature stand-alone occurrences and \\\n",
    "{cooccurrence_values.sum()} feature co-occurrences for {FEATURES_NAME} within {DATASET_NAME}\")"
   ]
  },
  {
   "cell_type": "code",
   "execution_count": 10,
   "metadata": {
    "scrolled": false
   },
   "outputs": [
    {
     "data": {
      "image/png": "[encoded data removed]",
      "text/plain": [
       "<Figure size 842.4x595.44 with 1 Axes>"
      ]
     },
     "metadata": {},
     "output_type": "display_data"
    }
   ],
   "source": [
    "title = f\"Co-occurrence counts of {FEATURES_NAME} in {DATASET_NAME}\"\n",
    "a4_dims = (11.7, 8.27)\n",
    "sns.set_style(\"whitegrid\")\n",
    "fig, ax = plt.subplots(figsize=a4_dims)\n",
    "sns.histplot(cooccurrence_values, log_scale=True, discrete=True)\n",
    "ax.set(title=title, xlabel=f\"Co-occurrence counts within {DATASET_NAME}\",\n",
    "       ylabel=f\"{FEATURES_NAME} co-occurrences\")\n",
    "plt.savefig(f\"{OUTPUT_FIGURE_PATH}/{title}.svg\", format=\"svg\")\n",
    "#plt.close()"
   ]
  },
  {
   "cell_type": "code",
   "execution_count": 11,
   "metadata": {},
   "outputs": [
    {
     "name": "stdout",
     "output_type": "stream",
     "text": [
      "The maximum theoretical number of different feature interrelations of the observed ECFP1-like substructures within ChEMBL28 would be 1343980, whereas the number of actual observed interrelations is only 110489. Therefore, the interrelation matrix population ratio is approx. 0.0822.\n"
     ]
    }
   ],
   "source": [
    "print(f\"The maximum theoretical number of different feature interrelations of the observed {FEATURES_NAME} \\\n",
    "within {DATASET_NAME} would be {int(p.num_max_interrelations())}, whereas the number of actual observed \\\n",
    "interrelations is only {p.num_raw_interrelations()}. Therefore, the interrelation matrix population ratio is \\\n",
    "approx. {p.num_raw_interrelations() / p.num_max_interrelations():.4f}.\")"
   ]
  },
  {
   "cell_type": "code",
   "execution_count": 12,
   "metadata": {
    "pycharm": {
     "name": "#%%\n"
    }
   },
   "outputs": [
    {
     "name": "stdout",
     "output_type": "stream",
     "text": [
      "The mean co-occurrence value for ECFP1-like substructures within ChEMBL28 is 2526.28, with the standard deviation of 19737.91. The mean stand-alone value is 20557.98, with the standard deviation of 104840.67.\n"
     ]
    }
   ],
   "source": [
    "print(f\"The mean co-occurrence value for {FEATURES_NAME} within {DATASET_NAME} \\\n",
    "is {p.mean_raw_interrelation_value():.2f}, \\\n",
    "with the standard deviation of {p.standard_raw_interrelation_deviation():.2f}. \\\n",
    "The mean stand-alone value is {p.mean_self_relation_value():.2f}, \\\n",
    "with the standard deviation of {p.standard_self_relation_deviation():.2f}.\")"
   ]
  },
  {
   "cell_type": "markdown",
   "metadata": {},
   "source": [
    "## General characterization of pointwise mutual information profile"
   ]
  },
  {
   "cell_type": "code",
   "execution_count": 13,
   "metadata": {},
   "outputs": [
    {
     "data": {
      "text/plain": [
       "<fip.profiles.CooccurrenceProbabilityProfile at 0x7faee59eaa10>"
      ]
     },
     "execution_count": 13,
     "metadata": {},
     "output_type": "execute_result"
    }
   ],
   "source": [
    "p = profiles.CooccurrenceProbabilityProfile.from_cooccurrence_profile(\n",
    "    p, vector_count=COOCCURRENCE_MX_VECTOR_COUNT)\n",
    "p"
   ]
  },
  {
   "cell_type": "code",
   "execution_count": 14,
   "metadata": {},
   "outputs": [
    {
     "data": {
      "text/plain": [
       "feature1    feature2  \n",
       "C=O         C=O           0.689240\n",
       "Cc(c)c      Cc(c)c        0.347409\n",
       "c-n(c)n     c-n(c)n       0.026781\n",
       "c=O         c=O           0.107644\n",
       "cC          cC            0.197574\n",
       "                            ...   \n",
       "cC[Te]      cC[Te]        0.000005\n",
       "BO[Si]      BO[Si]        0.000011\n",
       "NC(=O)[S-]  NC(=O)[S-]    0.000007\n",
       "[N+][N-]S   [N+][N-]S     0.000010\n",
       "BC(c)=C     BC(c)=C       0.000007\n",
       "Name: value, Length: 1640, dtype: float64"
      ]
     },
     "execution_count": 14,
     "metadata": {},
     "output_type": "execute_result"
    }
   ],
   "source": [
    "p.select_self_relations()['value']"
   ]
  },
  {
   "cell_type": "code",
   "execution_count": 15,
   "metadata": {},
   "outputs": [
    {
     "data": {
      "text/plain": [
       "4.83939031425065e-06"
      ]
     },
     "execution_count": 15,
     "metadata": {},
     "output_type": "execute_result"
    }
   ],
   "source": [
    "p.select_self_relations()['value'].min()"
   ]
  },
  {
   "cell_type": "code",
   "execution_count": 16,
   "metadata": {},
   "outputs": [
    {
     "data": {
      "text/plain": [
       "4.83939031425065e-06"
      ]
     },
     "execution_count": 16,
     "metadata": {},
     "output_type": "execute_result"
    }
   ],
   "source": [
    "p.select_raw_interrelations()['value'].min()"
   ]
  },
  {
   "cell_type": "code",
   "execution_count": 17,
   "metadata": {},
   "outputs": [
    {
     "data": {
      "text/plain": [
       "<fip.profiles.PointwiseMutualInformationProfile at 0x7faee4318f50>"
      ]
     },
     "execution_count": 17,
     "metadata": {},
     "output_type": "execute_result"
    }
   ],
   "source": [
    "p = profiles.PointwiseMutualInformationProfile.from_cooccurrence_probability_profile(p)\n",
    "\n",
    "p"
   ]
  },
  {
   "cell_type": "code",
   "execution_count": 18,
   "metadata": {},
   "outputs": [
    {
     "data": {
      "text/html": [
       "<div>\n",
       "<style scoped>\n",
       "    .dataframe tbody tr th:only-of-type {\n",
       "        vertical-align: middle;\n",
       "    }\n",
       "\n",
       "    .dataframe tbody tr th {\n",
       "        vertical-align: top;\n",
       "    }\n",
       "\n",
       "    .dataframe thead th {\n",
       "        text-align: right;\n",
       "    }\n",
       "</style>\n",
       "<table border=\"1\" class=\"dataframe\">\n",
       "  <thead>\n",
       "    <tr style=\"text-align: right;\">\n",
       "      <th></th>\n",
       "      <th></th>\n",
       "      <th>value</th>\n",
       "    </tr>\n",
       "    <tr>\n",
       "      <th>feature1</th>\n",
       "      <th>feature2</th>\n",
       "      <th></th>\n",
       "    </tr>\n",
       "  </thead>\n",
       "  <tbody>\n",
       "    <tr>\n",
       "      <th rowspan=\"5\" valign=\"top\">C=O</th>\n",
       "      <th>C=O</th>\n",
       "      <td>0.000000</td>\n",
       "    </tr>\n",
       "    <tr>\n",
       "      <th>Cc(c)c</th>\n",
       "      <td>0.336752</td>\n",
       "    </tr>\n",
       "    <tr>\n",
       "      <th>c-n(c)n</th>\n",
       "      <td>-0.021437</td>\n",
       "    </tr>\n",
       "    <tr>\n",
       "      <th>c=O</th>\n",
       "      <td>-0.350960</td>\n",
       "    </tr>\n",
       "    <tr>\n",
       "      <th>cC</th>\n",
       "      <td>-0.038451</td>\n",
       "    </tr>\n",
       "    <tr>\n",
       "      <th>...</th>\n",
       "      <th>...</th>\n",
       "      <td>...</td>\n",
       "    </tr>\n",
       "    <tr>\n",
       "      <th>c=C(N)O</th>\n",
       "      <th>ccn</th>\n",
       "      <td>1.220514</td>\n",
       "    </tr>\n",
       "    <tr>\n",
       "      <th>C=NN</th>\n",
       "      <th>C=c</th>\n",
       "      <td>4.198753</td>\n",
       "    </tr>\n",
       "    <tr>\n",
       "      <th>C=c</th>\n",
       "      <th>CNN</th>\n",
       "      <td>4.381283</td>\n",
       "    </tr>\n",
       "    <tr>\n",
       "      <th>c-c(n)s</th>\n",
       "      <th>nc(-n)[nH]</th>\n",
       "      <td>-0.033334</td>\n",
       "    </tr>\n",
       "    <tr>\n",
       "      <th>CCI</th>\n",
       "      <th>NS(=O)(=O)O</th>\n",
       "      <td>3.943011</td>\n",
       "    </tr>\n",
       "  </tbody>\n",
       "</table>\n",
       "<p>112129 rows × 1 columns</p>\n",
       "</div>"
      ],
      "text/plain": [
       "                         value\n",
       "feature1 feature2             \n",
       "C=O      C=O          0.000000\n",
       "         Cc(c)c       0.336752\n",
       "         c-n(c)n     -0.021437\n",
       "         c=O         -0.350960\n",
       "         cC          -0.038451\n",
       "...                        ...\n",
       "c=C(N)O  ccn          1.220514\n",
       "C=NN     C=c          4.198753\n",
       "C=c      CNN          4.381283\n",
       "c-c(n)s  nc(-n)[nH]  -0.033334\n",
       "CCI      NS(=O)(=O)O  3.943011\n",
       "\n",
       "[112129 rows x 1 columns]"
      ]
     },
     "execution_count": 18,
     "metadata": {},
     "output_type": "execute_result"
    }
   ],
   "source": [
    "p.df"
   ]
  },
  {
   "cell_type": "code",
   "execution_count": 19,
   "metadata": {},
   "outputs": [
    {
     "data": {
      "text/plain": [
       "feature1  feature2   \n",
       "C=O       Cc(c)c         0.336752\n",
       "          c-n(c)n       -0.021437\n",
       "          c=O           -0.350960\n",
       "          cC            -0.038451\n",
       "          cC(c)=O        0.536921\n",
       "                           ...   \n",
       "c=C(N)O   ccn            1.220514\n",
       "C=NN      C=c            4.198753\n",
       "C=c       CNN            4.381283\n",
       "c-c(n)s   nc(-n)[nH]    -0.033334\n",
       "CCI       NS(=O)(=O)O    3.943011\n",
       "Name: value, Length: 110489, dtype: float64"
      ]
     },
     "execution_count": 19,
     "metadata": {},
     "output_type": "execute_result"
    }
   ],
   "source": [
    "pmi_values = p.select_raw_interrelations()['value']\n",
    "pmi_values"
   ]
  },
  {
   "cell_type": "code",
   "execution_count": 20,
   "metadata": {
    "scrolled": false
   },
   "outputs": [
    {
     "data": {
      "image/png": "[encoded data removed]",
      "text/plain": [
       "<Figure size 842.4x595.44 with 1 Axes>"
      ]
     },
     "metadata": {},
     "output_type": "display_data"
    }
   ],
   "source": [
    "title = f\"PMI value distribution for {FEATURES_NAME} in {DATASET_NAME}\"\n",
    "a4_dims = (11.7, 8.27)\n",
    "sns.set_style(\"whitegrid\")\n",
    "fig, ax = plt.subplots(figsize=a4_dims)\n",
    "sns.histplot(pmi_values, binwidth=0.25)\n",
    "ax.set(title=title, xlabel=f\"PMI value bins within {DATASET_NAME}\", ylabel=f\"{FEATURES_NAME} counts\")\n",
    "plt.savefig(f\"{OUTPUT_FIGURE_PATH}/{title}.svg\", format=\"svg\")\n",
    "#plt.close()"
   ]
  },
  {
   "cell_type": "code",
   "execution_count": 21,
   "metadata": {},
   "outputs": [
    {
     "name": "stdout",
     "output_type": "stream",
     "text": [
      "The mean PMI value for ECFP1-like substructures within ChEMBL28 is 0.36, with the standard deviation of 2.32. The mean stand-alone value is 0.00, with the standard deviation of 0.00.\n"
     ]
    }
   ],
   "source": [
    "print(f\"The mean PMI value for {FEATURES_NAME} within {DATASET_NAME} \\\n",
    "is {p.mean_raw_interrelation_value():.2f}, \\\n",
    "with the standard deviation of {p.standard_raw_interrelation_deviation():.2f}. \\\n",
    "The mean stand-alone value is {p.mean_self_relation_value():.2f}, \\\n",
    "with the standard deviation of {p.standard_self_relation_deviation():.2f}.\")"
   ]
  },
  {
   "cell_type": "raw",
   "metadata": {},
   "source": [
    "# for PMI, this requires iteration through the whole profile, takes a very long time.\n",
    "a4_dims = (11.7, 8.27)\n",
    "sns.set_style(\"whitegrid\")\n",
    "fig, ax = plt.subplots(figsize=a4_dims)\n",
    "sns.histplot([value for f1, f2, value in p.iterate_feature_interrelations()], binwidth=0.5)\n",
    "ax.set(title=f\"Full PMI value distribution for {FEATURES_NAME} in {DATASET_NAME}, with imputation.\",\n",
    "        xlabel=f\"PMI value bins within {DATASET_NAME}\", ylabel=f\"{FEATURES_NAME} counts\")"
   ]
  },
  {
   "cell_type": "code",
   "execution_count": 22,
   "metadata": {
    "scrolled": true
   },
   "outputs": [
    {
     "data": {
      "text/plain": [
       "feature1       feature2  \n",
       "cc([nH])=O     nc([nH])=O     5.251617\n",
       "cC[n+]         c[n+](c)C      6.626132\n",
       "               cc(c)[n+]      5.581563\n",
       "               cc[n+]         6.497581\n",
       "c[n+](c)C      cc(c)[n+]      6.061171\n",
       "                               ...    \n",
       "CC(=N)O        NBr            9.758454\n",
       "CC(C)(C)Br     NBr           11.867710\n",
       "NBr            cC(c)C         5.882763\n",
       "[nH]c([nH])=O  cn(c)[nH]      5.869877\n",
       "C=c            c=C(N)O       16.323320\n",
       "Name: value, Length: 5178, dtype: float64"
      ]
     },
     "execution_count": 22,
     "metadata": {},
     "output_type": "execute_result"
    }
   ],
   "source": [
    "major_pmi_values = p.select_major_interrelations(2)['value']\n",
    "major_pmi_values"
   ]
  },
  {
   "cell_type": "code",
   "execution_count": 23,
   "metadata": {},
   "outputs": [
    {
     "data": {
      "image/png": "[encoded data removed]",
      "text/plain": [
       "<Figure size 842.4x595.44 with 1 Axes>"
      ]
     },
     "metadata": {},
     "output_type": "display_data"
    }
   ],
   "source": [
    "title = f\"Major PMI value distribution for {FEATURES_NAME} in {DATASET_NAME}\"\n",
    "a4_dims = (11.7, 8.27)\n",
    "sns.set_style(\"whitegrid\")\n",
    "fig, ax = plt.subplots(figsize=a4_dims)\n",
    "sns.histplot(major_pmi_values, binwidth=0.5)\n",
    "ax.set(title=title, xlabel=f\"PMI value bins within {DATASET_NAME}\", ylabel=f\"{FEATURES_NAME} counts\")\n",
    "plt.savefig(f\"{OUTPUT_FIGURE_PATH}/{title}.svg\", format=\"svg\")\n",
    "#plt.close()"
   ]
  },
  {
   "cell_type": "code",
   "execution_count": 24,
   "metadata": {},
   "outputs": [
    {
     "data": {
      "text/plain": [
       "0.3625016352839537"
      ]
     },
     "execution_count": 24,
     "metadata": {},
     "output_type": "execute_result"
    }
   ],
   "source": [
    "p.mean_raw_interrelation_value()"
   ]
  },
  {
   "cell_type": "markdown",
   "metadata": {},
   "source": [
    "## Graph visualization of PMI profile"
   ]
  },
  {
   "cell_type": "code",
   "execution_count": 25,
   "metadata": {},
   "outputs": [
    {
     "data": {
      "text/plain": [
       "<networkx.classes.graph.Graph at 0x7faee4adac50>"
      ]
     },
     "execution_count": 25,
     "metadata": {},
     "output_type": "execute_result"
    }
   ],
   "source": [
    "graph = nx.Graph()\n",
    "major_pmi_values = p.select_major_interrelations(2)\n",
    "\n",
    "for feature_pair, value in major_pmi_values[major_pmi_values['value'] > 0].iterrows():\n",
    "    graph.add_edge(feature_pair[0], feature_pair[1], weight=float(value))\n",
    "graph"
   ]
  },
  {
   "cell_type": "code",
   "execution_count": 26,
   "metadata": {},
   "outputs": [],
   "source": [
    "title = f\"Kamada-Kawai graph visualization of major PMI interrelations for {FEATURES_NAME} in {DATASET_NAME}\"\n",
    "dims = (40, 40)\n",
    "fig, ax = plt.subplots(figsize=dims)\n",
    "nx.draw_kamada_kawai(graph, ax=ax, alpha=0.5, node_size=30, label=title)\n",
    "plt.savefig(f\"{OUTPUT_FIGURE_PATH}/{title}.svg\", format=\"svg\")\n",
    "plt.close()"
   ]
  },
  {
   "cell_type": "code",
   "execution_count": 27,
   "metadata": {},
   "outputs": [],
   "source": [
    "title = f\"Circular graph visualization of major PMI interrelations for {FEATURES_NAME} in {DATASET_NAME}\"\n",
    "dims = (40, 40)\n",
    "fig, ax = plt.subplots(figsize=dims)\n",
    "nx.draw_circular(graph, ax=ax, alpha=0.2, node_size=30)\n",
    "plt.savefig(f\"{OUTPUT_FIGURE_PATH}/{title}.svg\", format=\"svg\")\n",
    "plt.close()"
   ]
  },
  {
   "cell_type": "code",
   "execution_count": 28,
   "metadata": {},
   "outputs": [],
   "source": [
    "title = f\"A generic graph visualization of major PMI interrelations for {FEATURES_NAME} in {DATASET_NAME}\"\n",
    "dims = (40, 40)\n",
    "fig, ax = plt.subplots(figsize=dims)\n",
    "nx.draw_networkx(graph, ax=ax, alpha=0.1, node_size=30)\n",
    "plt.savefig(f\"{OUTPUT_FIGURE_PATH}/{title}.svg\", format=\"svg\")\n",
    "plt.close()"
   ]
  },
  {
   "cell_type": "markdown",
   "metadata": {},
   "source": [
    "## General characterization of a hybrid co-occurrence profile"
   ]
  },
  {
   "cell_type": "code",
   "execution_count": 29,
   "metadata": {},
   "outputs": [
    {
     "data": {
      "text/plain": [
       "<fip.profiles.CooccurrenceProfile at 0x7faee3e0e610>"
      ]
     },
     "execution_count": 29,
     "metadata": {},
     "output_type": "execute_result"
    }
   ],
   "source": [
    "q = profiles.CooccurrenceProfile.from_dataframe(\n",
    "    pd.read_csv(HYBRID_COOCCURRENCE_MX_LINK), min_cutoff_value=MINIMAL_COOCCURRENCE_CUTOFF)\n",
    "q"
   ]
  },
  {
   "cell_type": "code",
   "execution_count": 30,
   "metadata": {},
   "outputs": [
    {
     "data": {
      "text/html": [
       "<div>\n",
       "<style scoped>\n",
       "    .dataframe tbody tr th:only-of-type {\n",
       "        vertical-align: middle;\n",
       "    }\n",
       "\n",
       "    .dataframe tbody tr th {\n",
       "        vertical-align: top;\n",
       "    }\n",
       "\n",
       "    .dataframe thead th {\n",
       "        text-align: right;\n",
       "    }\n",
       "</style>\n",
       "<table border=\"1\" class=\"dataframe\">\n",
       "  <thead>\n",
       "    <tr style=\"text-align: right;\">\n",
       "      <th></th>\n",
       "      <th></th>\n",
       "      <th>value</th>\n",
       "    </tr>\n",
       "    <tr>\n",
       "      <th>feature1</th>\n",
       "      <th>feature2</th>\n",
       "      <th></th>\n",
       "    </tr>\n",
       "  </thead>\n",
       "  <tbody>\n",
       "    <tr>\n",
       "      <th rowspan=\"5\" valign=\"top\">C=O</th>\n",
       "      <th>C=O</th>\n",
       "      <td>1417382</td>\n",
       "    </tr>\n",
       "    <tr>\n",
       "      <th>Cc(c)c</th>\n",
       "      <td>621764</td>\n",
       "    </tr>\n",
       "    <tr>\n",
       "      <th>c-n(c)n</th>\n",
       "      <td>37498</td>\n",
       "    </tr>\n",
       "    <tr>\n",
       "      <th>c=O</th>\n",
       "      <td>119809</td>\n",
       "    </tr>\n",
       "    <tr>\n",
       "      <th>cC</th>\n",
       "      <td>272969</td>\n",
       "    </tr>\n",
       "    <tr>\n",
       "      <th>...</th>\n",
       "      <th>...</th>\n",
       "      <td>...</td>\n",
       "    </tr>\n",
       "    <tr>\n",
       "      <th>CS(N)(=O)=O</th>\n",
       "      <th>PC-14</th>\n",
       "      <td>10</td>\n",
       "    </tr>\n",
       "    <tr>\n",
       "      <th>ATP-dependent Clp protease proteolytic subunit</th>\n",
       "      <th>CO</th>\n",
       "      <td>10</td>\n",
       "    </tr>\n",
       "    <tr>\n",
       "      <th>c-c(n)s</th>\n",
       "      <th>nc(-n)[nH]</th>\n",
       "      <td>10</td>\n",
       "    </tr>\n",
       "    <tr>\n",
       "      <th>NS(=O)(=O)O</th>\n",
       "      <th>cc(n)Cl</th>\n",
       "      <td>25</td>\n",
       "    </tr>\n",
       "    <tr>\n",
       "      <th>CCI</th>\n",
       "      <th>NS(=O)(=O)O</th>\n",
       "      <td>13</td>\n",
       "    </tr>\n",
       "  </tbody>\n",
       "</table>\n",
       "<p>448279 rows × 1 columns</p>\n",
       "</div>"
      ],
      "text/plain": [
       "                                                              value\n",
       "feature1                                       feature2            \n",
       "C=O                                            C=O          1417382\n",
       "                                               Cc(c)c        621764\n",
       "                                               c-n(c)n        37498\n",
       "                                               c=O           119809\n",
       "                                               cC            272969\n",
       "...                                                             ...\n",
       "CS(N)(=O)=O                                    PC-14             10\n",
       "ATP-dependent Clp protease proteolytic subunit CO                10\n",
       "c-c(n)s                                        nc(-n)[nH]        10\n",
       "NS(=O)(=O)O                                    cc(n)Cl           25\n",
       "CCI                                            NS(=O)(=O)O       13\n",
       "\n",
       "[448279 rows x 1 columns]"
      ]
     },
     "execution_count": 30,
     "metadata": {},
     "output_type": "execute_result"
    }
   ],
   "source": [
    "q.df"
   ]
  },
  {
   "cell_type": "code",
   "execution_count": 31,
   "metadata": {
    "scrolled": false
   },
   "outputs": [
    {
     "data": {
      "text/plain": [
       "5507"
      ]
     },
     "execution_count": 31,
     "metadata": {},
     "output_type": "execute_result"
    }
   ],
   "source": [
    "target_set = set()\n",
    "with open(DATASET_LINK, 'r') as dataset:\n",
    "    reader = csv.DictReader(dataset)\n",
    "    for row in reader:\n",
    "        activities = row['chembl_activities'].split(\" | \")\n",
    "        for activity in activities:\n",
    "            activity = activity.strip()\n",
    "            if activity:\n",
    "                target_set.add(activity)\n",
    "len(target_set)"
   ]
  },
  {
   "cell_type": "code",
   "execution_count": 32,
   "metadata": {},
   "outputs": [
    {
     "data": {
      "text/html": [
       "<div>\n",
       "<style scoped>\n",
       "    .dataframe tbody tr th:only-of-type {\n",
       "        vertical-align: middle;\n",
       "    }\n",
       "\n",
       "    .dataframe tbody tr th {\n",
       "        vertical-align: top;\n",
       "    }\n",
       "\n",
       "    .dataframe thead th {\n",
       "        text-align: right;\n",
       "    }\n",
       "</style>\n",
       "<table border=\"1\" class=\"dataframe\">\n",
       "  <thead>\n",
       "    <tr style=\"text-align: right;\">\n",
       "      <th></th>\n",
       "      <th></th>\n",
       "      <th>value</th>\n",
       "      <th>type</th>\n",
       "    </tr>\n",
       "    <tr>\n",
       "      <th>feature1</th>\n",
       "      <th>feature2</th>\n",
       "      <th></th>\n",
       "      <th></th>\n",
       "    </tr>\n",
       "  </thead>\n",
       "  <tbody>\n",
       "    <tr>\n",
       "      <th rowspan=\"5\" valign=\"top\">C=O</th>\n",
       "      <th>C=O</th>\n",
       "      <td>1417382</td>\n",
       "      <td>feature-feature</td>\n",
       "    </tr>\n",
       "    <tr>\n",
       "      <th>Cc(c)c</th>\n",
       "      <td>621764</td>\n",
       "      <td>feature-feature</td>\n",
       "    </tr>\n",
       "    <tr>\n",
       "      <th>c-n(c)n</th>\n",
       "      <td>37498</td>\n",
       "      <td>feature-feature</td>\n",
       "    </tr>\n",
       "    <tr>\n",
       "      <th>c=O</th>\n",
       "      <td>119809</td>\n",
       "      <td>feature-feature</td>\n",
       "    </tr>\n",
       "    <tr>\n",
       "      <th>cC</th>\n",
       "      <td>272969</td>\n",
       "      <td>feature-feature</td>\n",
       "    </tr>\n",
       "    <tr>\n",
       "      <th>...</th>\n",
       "      <th>...</th>\n",
       "      <td>...</td>\n",
       "      <td>...</td>\n",
       "    </tr>\n",
       "    <tr>\n",
       "      <th>CS(N)(=O)=O</th>\n",
       "      <th>PC-14</th>\n",
       "      <td>10</td>\n",
       "      <td>feature-activity</td>\n",
       "    </tr>\n",
       "    <tr>\n",
       "      <th>ATP-dependent Clp protease proteolytic subunit</th>\n",
       "      <th>CO</th>\n",
       "      <td>10</td>\n",
       "      <td>feature-activity</td>\n",
       "    </tr>\n",
       "    <tr>\n",
       "      <th>c-c(n)s</th>\n",
       "      <th>nc(-n)[nH]</th>\n",
       "      <td>10</td>\n",
       "      <td>feature-feature</td>\n",
       "    </tr>\n",
       "    <tr>\n",
       "      <th>NS(=O)(=O)O</th>\n",
       "      <th>cc(n)Cl</th>\n",
       "      <td>25</td>\n",
       "      <td>feature-feature</td>\n",
       "    </tr>\n",
       "    <tr>\n",
       "      <th>CCI</th>\n",
       "      <th>NS(=O)(=O)O</th>\n",
       "      <td>13</td>\n",
       "      <td>feature-feature</td>\n",
       "    </tr>\n",
       "  </tbody>\n",
       "</table>\n",
       "<p>448279 rows × 2 columns</p>\n",
       "</div>"
      ],
      "text/plain": [
       "                                                              value  \\\n",
       "feature1                                       feature2               \n",
       "C=O                                            C=O          1417382   \n",
       "                                               Cc(c)c        621764   \n",
       "                                               c-n(c)n        37498   \n",
       "                                               c=O           119809   \n",
       "                                               cC            272969   \n",
       "...                                                             ...   \n",
       "CS(N)(=O)=O                                    PC-14             10   \n",
       "ATP-dependent Clp protease proteolytic subunit CO                10   \n",
       "c-c(n)s                                        nc(-n)[nH]        10   \n",
       "NS(=O)(=O)O                                    cc(n)Cl           25   \n",
       "CCI                                            NS(=O)(=O)O       13   \n",
       "\n",
       "                                                                        type  \n",
       "feature1                                       feature2                       \n",
       "C=O                                            C=O           feature-feature  \n",
       "                                               Cc(c)c        feature-feature  \n",
       "                                               c-n(c)n       feature-feature  \n",
       "                                               c=O           feature-feature  \n",
       "                                               cC            feature-feature  \n",
       "...                                                                      ...  \n",
       "CS(N)(=O)=O                                    PC-14        feature-activity  \n",
       "ATP-dependent Clp protease proteolytic subunit CO           feature-activity  \n",
       "c-c(n)s                                        nc(-n)[nH]    feature-feature  \n",
       "NS(=O)(=O)O                                    cc(n)Cl       feature-feature  \n",
       "CCI                                            NS(=O)(=O)O   feature-feature  \n",
       "\n",
       "[448279 rows x 2 columns]"
      ]
     },
     "execution_count": 32,
     "metadata": {},
     "output_type": "execute_result"
    }
   ],
   "source": [
    "interrelation_type = ['feature-feature', 'feature-activity', 'activity-activity']\n",
    "q.df['type'] = [interrelation_type[sum((x in target_set, y in target_set))]\n",
    "                                   for x, y in zip(q.df.index.get_level_values(0),\n",
    "                                                   q.df.index.get_level_values(1))]\n",
    "q.df"
   ]
  },
  {
   "cell_type": "code",
   "execution_count": 33,
   "metadata": {},
   "outputs": [
    {
     "data": {
      "text/html": [
       "<div>\n",
       "<style scoped>\n",
       "    .dataframe tbody tr th:only-of-type {\n",
       "        vertical-align: middle;\n",
       "    }\n",
       "\n",
       "    .dataframe tbody tr th {\n",
       "        vertical-align: top;\n",
       "    }\n",
       "\n",
       "    .dataframe thead th {\n",
       "        text-align: right;\n",
       "    }\n",
       "</style>\n",
       "<table border=\"1\" class=\"dataframe\">\n",
       "  <thead>\n",
       "    <tr style=\"text-align: right;\">\n",
       "      <th></th>\n",
       "      <th></th>\n",
       "      <th>value</th>\n",
       "      <th>type</th>\n",
       "    </tr>\n",
       "    <tr>\n",
       "      <th>feature1</th>\n",
       "      <th>feature2</th>\n",
       "      <th></th>\n",
       "      <th></th>\n",
       "    </tr>\n",
       "  </thead>\n",
       "  <tbody>\n",
       "    <tr>\n",
       "      <th>Small conductance calcium-activated potassium channel</th>\n",
       "      <th>Small conductance calcium-activated potassium channel</th>\n",
       "      <td>74</td>\n",
       "      <td>activity-activity</td>\n",
       "    </tr>\n",
       "    <tr>\n",
       "      <th>Small conductance calcium-activated potassium channel protein 2</th>\n",
       "      <th>Small conductance calcium-activated potassium channel protein 2</th>\n",
       "      <td>22</td>\n",
       "      <td>activity-activity</td>\n",
       "    </tr>\n",
       "    <tr>\n",
       "      <th>Aldehyde dehydrogenase 1A1</th>\n",
       "      <th>Aldehyde dehydrogenase 1A1</th>\n",
       "      <td>2113</td>\n",
       "      <td>activity-activity</td>\n",
       "    </tr>\n",
       "    <tr>\n",
       "      <th>Anandamide amidohydrolase</th>\n",
       "      <th>Anandamide amidohydrolase</th>\n",
       "      <td>2103</td>\n",
       "      <td>activity-activity</td>\n",
       "    </tr>\n",
       "    <tr>\n",
       "      <th>Bloom syndrome protein</th>\n",
       "      <th>Bloom syndrome protein</th>\n",
       "      <td>328</td>\n",
       "      <td>activity-activity</td>\n",
       "    </tr>\n",
       "    <tr>\n",
       "      <th>...</th>\n",
       "      <th>...</th>\n",
       "      <td>...</td>\n",
       "      <td>...</td>\n",
       "    </tr>\n",
       "    <tr>\n",
       "      <th>Histone-lysine N-methyltransferase SUV39H2</th>\n",
       "      <th>Histone-lysine N-methyltransferase SUV39H2</th>\n",
       "      <td>460</td>\n",
       "      <td>activity-activity</td>\n",
       "    </tr>\n",
       "    <tr>\n",
       "      <th>CCD-18Co</th>\n",
       "      <th>CCD-18Co</th>\n",
       "      <td>26</td>\n",
       "      <td>activity-activity</td>\n",
       "    </tr>\n",
       "    <tr>\n",
       "      <th>S-adenosylmethionine synthase isoform type-2</th>\n",
       "      <th>S-adenosylmethionine synthase isoform type-2</th>\n",
       "      <td>56</td>\n",
       "      <td>activity-activity</td>\n",
       "    </tr>\n",
       "    <tr>\n",
       "      <th>Neurotrypsin</th>\n",
       "      <th>Neurotrypsin</th>\n",
       "      <td>11</td>\n",
       "      <td>activity-activity</td>\n",
       "    </tr>\n",
       "    <tr>\n",
       "      <th>PH and SEC7 domain-containing protein 1</th>\n",
       "      <th>PH and SEC7 domain-containing protein 1</th>\n",
       "      <td>15</td>\n",
       "      <td>activity-activity</td>\n",
       "    </tr>\n",
       "  </tbody>\n",
       "</table>\n",
       "<p>3292 rows × 2 columns</p>\n",
       "</div>"
      ],
      "text/plain": [
       "                                                                                                       value  \\\n",
       "feature1                                           feature2                                                    \n",
       "Small conductance calcium-activated potassium c... Small conductance calcium-activated potassium c...     74   \n",
       "Small conductance calcium-activated potassium c... Small conductance calcium-activated potassium c...     22   \n",
       "Aldehyde dehydrogenase 1A1                         Aldehyde dehydrogenase 1A1                           2113   \n",
       "Anandamide amidohydrolase                          Anandamide amidohydrolase                            2103   \n",
       "Bloom syndrome protein                             Bloom syndrome protein                                328   \n",
       "...                                                                                                      ...   \n",
       "Histone-lysine N-methyltransferase SUV39H2         Histone-lysine N-methyltransferase SUV39H2            460   \n",
       "CCD-18Co                                           CCD-18Co                                               26   \n",
       "S-adenosylmethionine synthase isoform type-2       S-adenosylmethionine synthase isoform type-2           56   \n",
       "Neurotrypsin                                       Neurotrypsin                                           11   \n",
       "PH and SEC7 domain-containing protein 1            PH and SEC7 domain-containing protein 1                15   \n",
       "\n",
       "                                                                                                                    type  \n",
       "feature1                                           feature2                                                               \n",
       "Small conductance calcium-activated potassium c... Small conductance calcium-activated potassium c...  activity-activity  \n",
       "Small conductance calcium-activated potassium c... Small conductance calcium-activated potassium c...  activity-activity  \n",
       "Aldehyde dehydrogenase 1A1                         Aldehyde dehydrogenase 1A1                          activity-activity  \n",
       "Anandamide amidohydrolase                          Anandamide amidohydrolase                           activity-activity  \n",
       "Bloom syndrome protein                             Bloom syndrome protein                              activity-activity  \n",
       "...                                                                                                                  ...  \n",
       "Histone-lysine N-methyltransferase SUV39H2         Histone-lysine N-methyltransferase SUV39H2          activity-activity  \n",
       "CCD-18Co                                           CCD-18Co                                            activity-activity  \n",
       "S-adenosylmethionine synthase isoform type-2       S-adenosylmethionine synthase isoform type-2        activity-activity  \n",
       "Neurotrypsin                                       Neurotrypsin                                        activity-activity  \n",
       "PH and SEC7 domain-containing protein 1            PH and SEC7 domain-containing protein 1             activity-activity  \n",
       "\n",
       "[3292 rows x 2 columns]"
      ]
     },
     "execution_count": 33,
     "metadata": {},
     "output_type": "execute_result"
    }
   ],
   "source": [
    "q.select_self_relations().loc[q.df.type=='activity-activity']"
   ]
  },
  {
   "cell_type": "code",
   "execution_count": 34,
   "metadata": {},
   "outputs": [
    {
     "name": "stdout",
     "output_type": "stream",
     "text": [
      "There are 5195 distinct ECFP1-like substructures and ChEMBL activities within ChEMBL28, of which there are 3292 ChEMBL activities.\n"
     ]
    }
   ],
   "source": [
    "print(f\"There are {len(q.distinct_features())} distinct {HYBRID_FEATURES_NAME} within {DATASET_NAME}, \\\n",
    "of which there are {len(q.select_self_relations().loc[q.df.type=='activity-activity'])} ChEMBL activities.\")"
   ]
  },
  {
   "cell_type": "code",
   "execution_count": 35,
   "metadata": {},
   "outputs": [
    {
     "data": {
      "text/plain": [
       "feature1                                      feature2                                    \n",
       "C=O                                           C=O                                             1417382\n",
       "Cc(c)c                                        Cc(c)c                                           714416\n",
       "c-n(c)n                                       c-n(c)n                                           55160\n",
       "c=O                                           c=O                                              221633\n",
       "cC                                            cC                                               406260\n",
       "                                                                                               ...   \n",
       "Histone-lysine N-methyltransferase SUV39H2    Histone-lysine N-methyltransferase SUV39H2          460\n",
       "CCD-18Co                                      CCD-18Co                                             26\n",
       "S-adenosylmethionine synthase isoform type-2  S-adenosylmethionine synthase isoform type-2         56\n",
       "Neurotrypsin                                  Neurotrypsin                                         11\n",
       "PH and SEC7 domain-containing protein 1       PH and SEC7 domain-containing protein 1              15\n",
       "Name: value, Length: 5195, dtype: int64"
      ]
     },
     "execution_count": 35,
     "metadata": {},
     "output_type": "execute_result"
    }
   ],
   "source": [
    "hybrid_self_relations_values = q.select_self_relations()['value']\n",
    "hybrid_self_relations_values"
   ]
  },
  {
   "cell_type": "code",
   "execution_count": 36,
   "metadata": {},
   "outputs": [
    {
     "data": {
      "image/png": "[encoded data removed]",
      "text/plain": [
       "<Figure size 842.4x595.44 with 1 Axes>"
      ]
     },
     "metadata": {},
     "output_type": "display_data"
    }
   ],
   "source": [
    "title = f\"Stand-alone {HYBRID_FEATURES_NAME} occurrence in {DATASET_NAME}\"\n",
    "a4_dims = (11.7, 8.27)\n",
    "sns.set_style(\"whitegrid\")\n",
    "fig, ax = plt.subplots(figsize=a4_dims)\n",
    "sns.histplot(q.select_self_relations(), log_scale=True, discrete=True, \n",
    "             x=\"value\", hue=\"type\", multiple=\"stack\")\n",
    "ax.set(title=title, xlabel=f\"Stand-alone occurrence count within {DATASET_NAME}\",\n",
    "       ylabel=f\"{HYBRID_FEATURES_NAME}\")\n",
    "plt.savefig(f\"{OUTPUT_FIGURE_PATH}/{title}.svg\", format=\"svg\")\n",
    "#plt.close()"
   ]
  },
  {
   "cell_type": "code",
   "execution_count": 37,
   "metadata": {},
   "outputs": [
    {
     "data": {
      "text/plain": [
       "feature1                                        feature2   \n",
       "C=O                                             Cc(c)c         621764\n",
       "                                                c-n(c)n         37498\n",
       "                                                c=O            119809\n",
       "                                                cC             272969\n",
       "                                                cC(c)=O         30629\n",
       "                                                                ...  \n",
       "CS(N)(=O)=O                                     PC-14              10\n",
       "ATP-dependent Clp protease proteolytic subunit  CO                 10\n",
       "c-c(n)s                                         nc(-n)[nH]         10\n",
       "NS(=O)(=O)O                                     cc(n)Cl            25\n",
       "CCI                                             NS(=O)(=O)O        13\n",
       "Name: value, Length: 443084, dtype: int64"
      ]
     },
     "execution_count": 37,
     "metadata": {},
     "output_type": "execute_result"
    }
   ],
   "source": [
    "hybrid_cooccurrence_values = q.select_raw_interrelations()['value']\n",
    "hybrid_cooccurrence_values"
   ]
  },
  {
   "cell_type": "code",
   "execution_count": 38,
   "metadata": {},
   "outputs": [
    {
     "name": "stdout",
     "output_type": "stream",
     "text": [
      "There is in total 33715089 feature stand-alone occurrences and 299308795 feature co-occurrences for ECFP1-like substructures and ChEMBL activities within ChEMBL28\n"
     ]
    }
   ],
   "source": [
    "print(f\"There is in total {self_relations_values.sum()} feature stand-alone occurrences and \\\n",
    "{hybrid_cooccurrence_values.sum()} feature co-occurrences for {HYBRID_FEATURES_NAME} within {DATASET_NAME}\")"
   ]
  },
  {
   "cell_type": "code",
   "execution_count": 39,
   "metadata": {},
   "outputs": [
    {
     "data": {
      "image/png": "[encoded data removed]",
      "text/plain": [
       "<Figure size 842.4x595.44 with 1 Axes>"
      ]
     },
     "metadata": {},
     "output_type": "display_data"
    }
   ],
   "source": [
    "title = f\"Co-occurrence counts of {HYBRID_FEATURES_NAME} in {DATASET_NAME}\"\n",
    "a4_dims = (11.7, 8.27)\n",
    "sns.set_style(\"whitegrid\")\n",
    "fig, ax = plt.subplots(figsize=a4_dims)\n",
    "sns.histplot(q.select_raw_interrelations(), log_scale=True, discrete=True,\n",
    "             x=\"value\", hue=\"type\", multiple=\"stack\")\n",
    "ax.set(title=title, xlabel=f\"Co-occurrence counts within {DATASET_NAME}\",\n",
    "       ylabel=f\"{HYBRID_FEATURES_NAME} co-occurrences\")\n",
    "plt.savefig(f\"{OUTPUT_FIGURE_PATH}/{title}.svg\", format=\"svg\")\n",
    "#plt.close()"
   ]
  },
  {
   "cell_type": "code",
   "execution_count": 40,
   "metadata": {},
   "outputs": [],
   "source": [
    "q = profiles.CooccurrenceProbabilityProfile.from_cooccurrence_profile(\n",
    "    q, vector_count=HYBRID_COOCCURRENCE_MX_VECTOR_COUNT)\n",
    "q = profiles.PointwiseMutualInformationProfile.from_cooccurrence_probability_profile(q)"
   ]
  },
  {
   "cell_type": "code",
   "execution_count": 41,
   "metadata": {},
   "outputs": [
    {
     "data": {
      "text/html": [
       "<div>\n",
       "<style scoped>\n",
       "    .dataframe tbody tr th:only-of-type {\n",
       "        vertical-align: middle;\n",
       "    }\n",
       "\n",
       "    .dataframe tbody tr th {\n",
       "        vertical-align: top;\n",
       "    }\n",
       "\n",
       "    .dataframe thead th {\n",
       "        text-align: right;\n",
       "    }\n",
       "</style>\n",
       "<table border=\"1\" class=\"dataframe\">\n",
       "  <thead>\n",
       "    <tr style=\"text-align: right;\">\n",
       "      <th></th>\n",
       "      <th></th>\n",
       "      <th>value</th>\n",
       "      <th>type</th>\n",
       "    </tr>\n",
       "    <tr>\n",
       "      <th>feature1</th>\n",
       "      <th>feature2</th>\n",
       "      <th></th>\n",
       "      <th></th>\n",
       "    </tr>\n",
       "  </thead>\n",
       "  <tbody>\n",
       "    <tr>\n",
       "      <th rowspan=\"5\" valign=\"top\">C=O</th>\n",
       "      <th>C=O</th>\n",
       "      <td>0.000000</td>\n",
       "      <td></td>\n",
       "    </tr>\n",
       "    <tr>\n",
       "      <th>Cc(c)c</th>\n",
       "      <td>0.343477</td>\n",
       "      <td>0.343477</td>\n",
       "    </tr>\n",
       "    <tr>\n",
       "      <th>c-n(c)n</th>\n",
       "      <td>-0.012935</td>\n",
       "      <td>-0.012935</td>\n",
       "    </tr>\n",
       "    <tr>\n",
       "      <th>c=O</th>\n",
       "      <td>-0.343562</td>\n",
       "      <td>-0.343562</td>\n",
       "    </tr>\n",
       "    <tr>\n",
       "      <th>cC</th>\n",
       "      <td>-0.029792</td>\n",
       "      <td>-0.029792</td>\n",
       "    </tr>\n",
       "    <tr>\n",
       "      <th>...</th>\n",
       "      <th>...</th>\n",
       "      <td>...</td>\n",
       "      <td>...</td>\n",
       "    </tr>\n",
       "    <tr>\n",
       "      <th>CS(N)(=O)=O</th>\n",
       "      <th>PC-14</th>\n",
       "      <td>2.974874</td>\n",
       "      <td>2.974874</td>\n",
       "    </tr>\n",
       "    <tr>\n",
       "      <th>ATP-dependent Clp protease proteolytic subunit</th>\n",
       "      <th>CO</th>\n",
       "      <td>-1.030133</td>\n",
       "      <td>-1.030133</td>\n",
       "    </tr>\n",
       "    <tr>\n",
       "      <th>c-c(n)s</th>\n",
       "      <th>nc(-n)[nH]</th>\n",
       "      <td>-0.026784</td>\n",
       "      <td>-0.026784</td>\n",
       "    </tr>\n",
       "    <tr>\n",
       "      <th>NS(=O)(=O)O</th>\n",
       "      <th>cc(n)Cl</th>\n",
       "      <td>0.191176</td>\n",
       "      <td>0.191176</td>\n",
       "    </tr>\n",
       "    <tr>\n",
       "      <th>CCI</th>\n",
       "      <th>NS(=O)(=O)O</th>\n",
       "      <td>3.984286</td>\n",
       "      <td>3.984286</td>\n",
       "    </tr>\n",
       "  </tbody>\n",
       "</table>\n",
       "<p>448279 rows × 2 columns</p>\n",
       "</div>"
      ],
      "text/plain": [
       "                                                               value      type\n",
       "feature1                                       feature2                       \n",
       "C=O                                            C=O          0.000000          \n",
       "                                               Cc(c)c       0.343477  0.343477\n",
       "                                               c-n(c)n     -0.012935 -0.012935\n",
       "                                               c=O         -0.343562 -0.343562\n",
       "                                               cC          -0.029792 -0.029792\n",
       "...                                                              ...       ...\n",
       "CS(N)(=O)=O                                    PC-14        2.974874  2.974874\n",
       "ATP-dependent Clp protease proteolytic subunit CO          -1.030133 -1.030133\n",
       "c-c(n)s                                        nc(-n)[nH]  -0.026784 -0.026784\n",
       "NS(=O)(=O)O                                    cc(n)Cl      0.191176  0.191176\n",
       "CCI                                            NS(=O)(=O)O  3.984286  3.984286\n",
       "\n",
       "[448279 rows x 2 columns]"
      ]
     },
     "execution_count": 41,
     "metadata": {},
     "output_type": "execute_result"
    }
   ],
   "source": [
    "q.df"
   ]
  },
  {
   "cell_type": "code",
   "execution_count": 42,
   "metadata": {},
   "outputs": [
    {
     "data": {
      "text/html": [
       "<div>\n",
       "<style scoped>\n",
       "    .dataframe tbody tr th:only-of-type {\n",
       "        vertical-align: middle;\n",
       "    }\n",
       "\n",
       "    .dataframe tbody tr th {\n",
       "        vertical-align: top;\n",
       "    }\n",
       "\n",
       "    .dataframe thead th {\n",
       "        text-align: right;\n",
       "    }\n",
       "</style>\n",
       "<table border=\"1\" class=\"dataframe\">\n",
       "  <thead>\n",
       "    <tr style=\"text-align: right;\">\n",
       "      <th></th>\n",
       "      <th></th>\n",
       "      <th>value</th>\n",
       "      <th>type</th>\n",
       "    </tr>\n",
       "    <tr>\n",
       "      <th>feature1</th>\n",
       "      <th>feature2</th>\n",
       "      <th></th>\n",
       "      <th></th>\n",
       "    </tr>\n",
       "  </thead>\n",
       "  <tbody>\n",
       "    <tr>\n",
       "      <th rowspan=\"5\" valign=\"top\">C=O</th>\n",
       "      <th>C=O</th>\n",
       "      <td>0.000000</td>\n",
       "      <td>feature-feature</td>\n",
       "    </tr>\n",
       "    <tr>\n",
       "      <th>Cc(c)c</th>\n",
       "      <td>0.343477</td>\n",
       "      <td>feature-feature</td>\n",
       "    </tr>\n",
       "    <tr>\n",
       "      <th>c-n(c)n</th>\n",
       "      <td>-0.012935</td>\n",
       "      <td>feature-feature</td>\n",
       "    </tr>\n",
       "    <tr>\n",
       "      <th>c=O</th>\n",
       "      <td>-0.343562</td>\n",
       "      <td>feature-feature</td>\n",
       "    </tr>\n",
       "    <tr>\n",
       "      <th>cC</th>\n",
       "      <td>-0.029792</td>\n",
       "      <td>feature-feature</td>\n",
       "    </tr>\n",
       "    <tr>\n",
       "      <th>...</th>\n",
       "      <th>...</th>\n",
       "      <td>...</td>\n",
       "      <td>...</td>\n",
       "    </tr>\n",
       "    <tr>\n",
       "      <th>CS(N)(=O)=O</th>\n",
       "      <th>PC-14</th>\n",
       "      <td>2.974874</td>\n",
       "      <td>feature-activity</td>\n",
       "    </tr>\n",
       "    <tr>\n",
       "      <th>ATP-dependent Clp protease proteolytic subunit</th>\n",
       "      <th>CO</th>\n",
       "      <td>-1.030133</td>\n",
       "      <td>feature-activity</td>\n",
       "    </tr>\n",
       "    <tr>\n",
       "      <th>c-c(n)s</th>\n",
       "      <th>nc(-n)[nH]</th>\n",
       "      <td>-0.026784</td>\n",
       "      <td>feature-feature</td>\n",
       "    </tr>\n",
       "    <tr>\n",
       "      <th>NS(=O)(=O)O</th>\n",
       "      <th>cc(n)Cl</th>\n",
       "      <td>0.191176</td>\n",
       "      <td>feature-feature</td>\n",
       "    </tr>\n",
       "    <tr>\n",
       "      <th>CCI</th>\n",
       "      <th>NS(=O)(=O)O</th>\n",
       "      <td>3.984286</td>\n",
       "      <td>feature-feature</td>\n",
       "    </tr>\n",
       "  </tbody>\n",
       "</table>\n",
       "<p>448279 rows × 2 columns</p>\n",
       "</div>"
      ],
      "text/plain": [
       "                                                               value  \\\n",
       "feature1                                       feature2                \n",
       "C=O                                            C=O          0.000000   \n",
       "                                               Cc(c)c       0.343477   \n",
       "                                               c-n(c)n     -0.012935   \n",
       "                                               c=O         -0.343562   \n",
       "                                               cC          -0.029792   \n",
       "...                                                              ...   \n",
       "CS(N)(=O)=O                                    PC-14        2.974874   \n",
       "ATP-dependent Clp protease proteolytic subunit CO          -1.030133   \n",
       "c-c(n)s                                        nc(-n)[nH]  -0.026784   \n",
       "NS(=O)(=O)O                                    cc(n)Cl      0.191176   \n",
       "CCI                                            NS(=O)(=O)O  3.984286   \n",
       "\n",
       "                                                                        type  \n",
       "feature1                                       feature2                       \n",
       "C=O                                            C=O           feature-feature  \n",
       "                                               Cc(c)c        feature-feature  \n",
       "                                               c-n(c)n       feature-feature  \n",
       "                                               c=O           feature-feature  \n",
       "                                               cC            feature-feature  \n",
       "...                                                                      ...  \n",
       "CS(N)(=O)=O                                    PC-14        feature-activity  \n",
       "ATP-dependent Clp protease proteolytic subunit CO           feature-activity  \n",
       "c-c(n)s                                        nc(-n)[nH]    feature-feature  \n",
       "NS(=O)(=O)O                                    cc(n)Cl       feature-feature  \n",
       "CCI                                            NS(=O)(=O)O   feature-feature  \n",
       "\n",
       "[448279 rows x 2 columns]"
      ]
     },
     "execution_count": 42,
     "metadata": {},
     "output_type": "execute_result"
    }
   ],
   "source": [
    "# Fix the type write-through\n",
    "q.df['type'] = [interrelation_type[sum((x in target_set, y in target_set))]\n",
    "                                   for x, y in zip(q.df.index.get_level_values(0),\n",
    "                                                   q.df.index.get_level_values(1))]\n",
    "q.df"
   ]
  },
  {
   "cell_type": "code",
   "execution_count": 43,
   "metadata": {},
   "outputs": [
    {
     "data": {
      "image/png": "[encoded data removed]",
      "text/plain": [
       "<Figure size 842.4x595.44 with 1 Axes>"
      ]
     },
     "metadata": {},
     "output_type": "display_data"
    }
   ],
   "source": [
    "title = f\"PMI value distribution for {HYBRID_FEATURES_NAME} in {DATASET_NAME}\"\n",
    "a4_dims = (11.7, 8.27)\n",
    "sns.set_style(\"whitegrid\")\n",
    "fig, ax = plt.subplots(figsize=a4_dims)\n",
    "sns.histplot(q.select_raw_interrelations(), binwidth=0.25, x=\"value\", hue=\"type\", multiple=\"stack\")\n",
    "ax.set(title=title, xlabel=f\"PMI value bins within {DATASET_NAME}\", ylabel=f\"{FEATURES_NAME} counts\")\n",
    "plt.savefig(f\"{OUTPUT_FIGURE_PATH}/{title}.svg\", format=\"svg\")\n",
    "#plt.close()"
   ]
  },
  {
   "cell_type": "code",
   "execution_count": 44,
   "metadata": {},
   "outputs": [
    {
     "data": {
      "text/html": [
       "<div>\n",
       "<style scoped>\n",
       "    .dataframe tbody tr th:only-of-type {\n",
       "        vertical-align: middle;\n",
       "    }\n",
       "\n",
       "    .dataframe tbody tr th {\n",
       "        vertical-align: top;\n",
       "    }\n",
       "\n",
       "    .dataframe thead th {\n",
       "        text-align: right;\n",
       "    }\n",
       "</style>\n",
       "<table border=\"1\" class=\"dataframe\">\n",
       "  <thead>\n",
       "    <tr style=\"text-align: right;\">\n",
       "      <th></th>\n",
       "      <th></th>\n",
       "      <th>value</th>\n",
       "      <th>type</th>\n",
       "    </tr>\n",
       "    <tr>\n",
       "      <th>feature1</th>\n",
       "      <th>feature2</th>\n",
       "      <th></th>\n",
       "      <th></th>\n",
       "    </tr>\n",
       "  </thead>\n",
       "  <tbody>\n",
       "    <tr>\n",
       "      <th>Carboxypeptidase A2</th>\n",
       "      <th>Carboxypeptidase A4</th>\n",
       "      <td>17.519240</td>\n",
       "      <td>activity-activity</td>\n",
       "    </tr>\n",
       "    <tr>\n",
       "      <th>D-423MG</th>\n",
       "      <th>D-566MG</th>\n",
       "      <td>17.381736</td>\n",
       "      <td>activity-activity</td>\n",
       "    </tr>\n",
       "    <tr>\n",
       "      <th>EPLC-272H</th>\n",
       "      <th>KNS-62</th>\n",
       "      <td>17.278232</td>\n",
       "      <td>activity-activity</td>\n",
       "    </tr>\n",
       "    <tr>\n",
       "      <th>C-4-II</th>\n",
       "      <th>NCI-H1734</th>\n",
       "      <td>17.256205</td>\n",
       "      <td>activity-activity</td>\n",
       "    </tr>\n",
       "    <tr>\n",
       "      <th>CCF-STTG1</th>\n",
       "      <th>U-698-M</th>\n",
       "      <td>17.171316</td>\n",
       "      <td>activity-activity</td>\n",
       "    </tr>\n",
       "    <tr>\n",
       "      <th>...</th>\n",
       "      <th>...</th>\n",
       "      <td>...</td>\n",
       "      <td>...</td>\n",
       "    </tr>\n",
       "    <tr>\n",
       "      <th>LC-1F</th>\n",
       "      <th>NCI-H748</th>\n",
       "      <td>16.808746</td>\n",
       "      <td>activity-activity</td>\n",
       "    </tr>\n",
       "    <tr>\n",
       "      <th>MC-CAR</th>\n",
       "      <th>SCLC-21H</th>\n",
       "      <td>16.808746</td>\n",
       "      <td>activity-activity</td>\n",
       "    </tr>\n",
       "    <tr>\n",
       "      <th>MDA-MB-415</th>\n",
       "      <th>RO82-W-1</th>\n",
       "      <td>16.808746</td>\n",
       "      <td>activity-activity</td>\n",
       "    </tr>\n",
       "    <tr>\n",
       "      <th>COR-L279</th>\n",
       "      <th>SCLC-21H</th>\n",
       "      <td>16.808746</td>\n",
       "      <td>activity-activity</td>\n",
       "    </tr>\n",
       "    <tr>\n",
       "      <th>DMS-153</th>\n",
       "      <th>NCI-H748</th>\n",
       "      <td>16.808746</td>\n",
       "      <td>activity-activity</td>\n",
       "    </tr>\n",
       "  </tbody>\n",
       "</table>\n",
       "<p>100 rows × 2 columns</p>\n",
       "</div>"
      ],
      "text/plain": [
       "                                             value               type\n",
       "feature1            feature2                                         \n",
       "Carboxypeptidase A2 Carboxypeptidase A4  17.519240  activity-activity\n",
       "D-423MG             D-566MG              17.381736  activity-activity\n",
       "EPLC-272H           KNS-62               17.278232  activity-activity\n",
       "C-4-II              NCI-H1734            17.256205  activity-activity\n",
       "CCF-STTG1           U-698-M              17.171316  activity-activity\n",
       "...                                            ...                ...\n",
       "LC-1F               NCI-H748             16.808746  activity-activity\n",
       "MC-CAR              SCLC-21H             16.808746  activity-activity\n",
       "MDA-MB-415          RO82-W-1             16.808746  activity-activity\n",
       "COR-L279            SCLC-21H             16.808746  activity-activity\n",
       "DMS-153             NCI-H748             16.808746  activity-activity\n",
       "\n",
       "[100 rows x 2 columns]"
      ]
     },
     "execution_count": 44,
     "metadata": {},
     "output_type": "execute_result"
    }
   ],
   "source": [
    "q.df.loc[q.df.type == 'activity-activity'].sort_values('value', ascending=False)[:100]"
   ]
  },
  {
   "cell_type": "code",
   "execution_count": null,
   "metadata": {},
   "outputs": [],
   "source": []
  }
 ],
 "metadata": {
  "kernelspec": {
   "display_name": "Python 3 (ipykernel)",
   "language": "python",
   "name": "python3"
  },
  "language_info": {
   "codemirror_mode": {
    "name": "ipython",
    "version": 3
   },
   "file_extension": ".py",
   "mimetype": "text/x-python",
   "name": "python",
   "nbconvert_exporter": "python",
   "pygments_lexer": "ipython3",
   "version": "3.7.10"
  }
 },
 "nbformat": 4,
 "nbformat_minor": 1
}