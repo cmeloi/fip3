{
 "cells": [
  {
   "cell_type": "markdown",
   "metadata": {},
   "source": [
    "# Basic feature interrelation analysis using the 'fip3' library"
   ]
  },
  {
   "cell_type": "code",
   "execution_count": 1,
   "metadata": {},
   "outputs": [],
   "source": [
    "import pandas as pd\n",
    "import seaborn as sns\n",
    "import matplotlib.pyplot as plt\n",
    "\n",
    "from fip import profiles"
   ]
  },
  {
   "cell_type": "code",
   "execution_count": 19,
   "metadata": {},
   "outputs": [],
   "source": [
    "DATASET_NAME = 'ChEMBL28'\n",
    "FEATURES_NAME = 'ECFP1-like substructures'\n",
    "COOCCURRENCE_MX_LINK = '../../scratch/data/chembl_28/ec_fragments_r1_coomx.csv'\n",
    "COOCCURRENCE_MX_VECTOR_COUNT = 2066376\n",
    "MINIMAL_COOCCURRENCE_CUTOFF = 10"
   ]
  },
  {
   "cell_type": "markdown",
   "metadata": {},
   "source": [
    "## Loading interrelation profiles\n",
    "From interrelation files already preprocessed by scripts in fip3/scripts"
   ]
  },
  {
   "cell_type": "code",
   "execution_count": 3,
   "metadata": {},
   "outputs": [
    {
     "data": {
      "text/plain": [
       "<fip.profiles.CooccurrenceProfile at 0x7f44f9be7250>"
      ]
     },
     "execution_count": 3,
     "metadata": {},
     "output_type": "execute_result"
    }
   ],
   "source": [
    "p = profiles.CooccurrenceProfile.from_dataframe(\n",
    "    pd.read_csv(COOCCURRENCE_MX_LINK), min_cutoff_value=MINIMAL_COOCCURRENCE_CUTOFF)\n",
    "p"
   ]
  },
  {
   "cell_type": "code",
   "execution_count": 4,
   "metadata": {
    "scrolled": false
   },
   "outputs": [
    {
     "data": {
      "text/html": [
       "<div>\n",
       "<style scoped>\n",
       "    .dataframe tbody tr th:only-of-type {\n",
       "        vertical-align: middle;\n",
       "    }\n",
       "\n",
       "    .dataframe tbody tr th {\n",
       "        vertical-align: top;\n",
       "    }\n",
       "\n",
       "    .dataframe thead th {\n",
       "        text-align: right;\n",
       "    }\n",
       "</style>\n",
       "<table border=\"1\" class=\"dataframe\">\n",
       "  <thead>\n",
       "    <tr style=\"text-align: right;\">\n",
       "      <th></th>\n",
       "      <th></th>\n",
       "      <th>value</th>\n",
       "    </tr>\n",
       "    <tr>\n",
       "      <th>feature1</th>\n",
       "      <th>feature2</th>\n",
       "      <th></th>\n",
       "    </tr>\n",
       "  </thead>\n",
       "  <tbody>\n",
       "    <tr>\n",
       "      <th rowspan=\"5\" valign=\"top\">C=O</th>\n",
       "      <th>C=O</th>\n",
       "      <td>1424230</td>\n",
       "    </tr>\n",
       "    <tr>\n",
       "      <th>Cc(c)c</th>\n",
       "      <td>624876</td>\n",
       "    </tr>\n",
       "    <tr>\n",
       "      <th>c-n(c)n</th>\n",
       "      <td>37580</td>\n",
       "    </tr>\n",
       "    <tr>\n",
       "      <th>c=O</th>\n",
       "      <td>120205</td>\n",
       "    </tr>\n",
       "    <tr>\n",
       "      <th>cC</th>\n",
       "      <td>273990</td>\n",
       "    </tr>\n",
       "    <tr>\n",
       "      <th>...</th>\n",
       "      <th>...</th>\n",
       "      <td>...</td>\n",
       "    </tr>\n",
       "    <tr>\n",
       "      <th>[N+][N-]S</th>\n",
       "      <th>cn(C)n</th>\n",
       "      <td>2</td>\n",
       "    </tr>\n",
       "    <tr>\n",
       "      <th>[N-][N+](=O)[O-]</th>\n",
       "      <th>c=N</th>\n",
       "      <td>2</td>\n",
       "    </tr>\n",
       "    <tr>\n",
       "      <th>c=N</th>\n",
       "      <th>cS([N-])(=O)=O</th>\n",
       "      <td>2</td>\n",
       "    </tr>\n",
       "    <tr>\n",
       "      <th>CCI</th>\n",
       "      <th>NS(=O)(=O)O</th>\n",
       "      <td>13</td>\n",
       "    </tr>\n",
       "    <tr>\n",
       "      <th>NS(=O)(=O)O</th>\n",
       "      <th>cc(n)Br</th>\n",
       "      <td>9</td>\n",
       "    </tr>\n",
       "  </tbody>\n",
       "</table>\n",
       "<p>193434 rows × 1 columns</p>\n",
       "</div>"
      ],
      "text/plain": [
       "                                   value\n",
       "feature1         feature2               \n",
       "C=O              C=O             1424230\n",
       "                 Cc(c)c           624876\n",
       "                 c-n(c)n           37580\n",
       "                 c=O              120205\n",
       "                 cC               273990\n",
       "...                                  ...\n",
       "[N+][N-]S        cn(C)n                2\n",
       "[N-][N+](=O)[O-] c=N                   2\n",
       "c=N              cS([N-])(=O)=O        2\n",
       "CCI              NS(=O)(=O)O          13\n",
       "NS(=O)(=O)O      cc(n)Br               9\n",
       "\n",
       "[193434 rows x 1 columns]"
      ]
     },
     "execution_count": 4,
     "metadata": {},
     "output_type": "execute_result"
    }
   ],
   "source": [
    "p.df"
   ]
  },
  {
   "cell_type": "markdown",
   "metadata": {},
   "source": [
    "## General characterization of co-occurrence profile"
   ]
  },
  {
   "cell_type": "code",
   "execution_count": 5,
   "metadata": {},
   "outputs": [
    {
     "name": "stdout",
     "output_type": "stream",
     "text": [
      "There are 2711 distinct ECFP1-like substructures within ChEMBL28.\n"
     ]
    }
   ],
   "source": [
    "print(f\"There are {len(p.distinct_features())} distinct {FEATURES_NAME} within {DATASET_NAME}.\")"
   ]
  },
  {
   "cell_type": "code",
   "execution_count": 6,
   "metadata": {},
   "outputs": [
    {
     "data": {
      "text/plain": [
       "feature1             feature2           \n",
       "C=O                  C=O                    1424230\n",
       "Cc(c)c               Cc(c)c                  717878\n",
       "c-n(c)n              c-n(c)n                  55340\n",
       "c=O                  c=O                     222434\n",
       "cC                   cC                      408262\n",
       "                                             ...   \n",
       "cS(=C)N              cS(=C)N                      2\n",
       "[N+]C=O              [N+]C=O                      2\n",
       "CO[TeH]              CO[TeH]                      2\n",
       "Cl[TeH]              Cl[TeH]                      2\n",
       "O[TeH](O)(Cl)(Cl)Cl  O[TeH](O)(Cl)(Cl)Cl          2\n",
       "Name: value, Length: 2711, dtype: int64"
      ]
     },
     "execution_count": 6,
     "metadata": {},
     "output_type": "execute_result"
    }
   ],
   "source": [
    "self_relations_values = p.select_self_relations()['value']\n",
    "self_relations_values"
   ]
  },
  {
   "cell_type": "code",
   "execution_count": 7,
   "metadata": {},
   "outputs": [
    {
     "data": {
      "text/plain": [
       "[Text(0.5, 1.0, 'Stand-alone ECFP1-like substructures occurrence in ChEMBL28'),\n",
       " Text(0.5, 0, 'Stand-alone occurrence count within ChEMBL28'),\n",
       " Text(0, 0.5, 'ECFP1-like substructures')]"
      ]
     },
     "execution_count": 7,
     "metadata": {},
     "output_type": "execute_result"
    },
    {
     "data": {
      "image/png": "[encoded data removed]",
      "text/plain": [
       "<Figure size 842.4x595.44 with 1 Axes>"
      ]
     },
     "metadata": {},
     "output_type": "display_data"
    }
   ],
   "source": [
    "a4_dims = (11.7, 8.27)\n",
    "sns.set_style(\"whitegrid\")\n",
    "fig, ax = plt.subplots(figsize=a4_dims)\n",
    "sns.histplot(self_relations_values, log_scale=True, discrete=True)\n",
    "ax.set(title=f\"Stand-alone {FEATURES_NAME} occurrence in {DATASET_NAME}\",\n",
    "        xlabel=f\"Stand-alone occurrence count within {DATASET_NAME}\", ylabel=f\"{FEATURES_NAME}\")"
   ]
  },
  {
   "cell_type": "code",
   "execution_count": 8,
   "metadata": {},
   "outputs": [
    {
     "data": {
      "text/plain": [
       "feature1          feature2      \n",
       "C=O               Cc(c)c            624876\n",
       "                  c-n(c)n            37580\n",
       "                  c=O               120205\n",
       "                  cC                273990\n",
       "                  cC(c)=O            30748\n",
       "                                     ...  \n",
       "[N+][N-]S         cn(C)n                 2\n",
       "[N-][N+](=O)[O-]  c=N                    2\n",
       "c=N               cS([N-])(=O)=O         2\n",
       "CCI               NS(=O)(=O)O           13\n",
       "NS(=O)(=O)O       cc(n)Br                9\n",
       "Name: value, Length: 190723, dtype: int64"
      ]
     },
     "execution_count": 8,
     "metadata": {},
     "output_type": "execute_result"
    }
   ],
   "source": [
    "cooccurrence_values = p.select_raw_interrelations()['value']\n",
    "cooccurrence_values"
   ]
  },
  {
   "cell_type": "code",
   "execution_count": 9,
   "metadata": {},
   "outputs": [
    {
     "name": "stdout",
     "output_type": "stream",
     "text": [
      "There is in total 33719310 feature stand-alone occurrences and 279452441 feature co-occurrences for ECFP1-like substructures within ChEMBL28\n"
     ]
    }
   ],
   "source": [
    "print(f\"There is in total {self_relations_values.sum()} feature stand-alone occurrences and \\\n",
    "{cooccurrence_values.sum()} feature co-occurrences for {FEATURES_NAME} within {DATASET_NAME}\")"
   ]
  },
  {
   "cell_type": "code",
   "execution_count": 10,
   "metadata": {
    "scrolled": false
   },
   "outputs": [
    {
     "data": {
      "text/plain": [
       "[Text(0.5, 1.0, 'Co-occurrence counts of ECFP1-like substructures in ChEMBL28'),\n",
       " Text(0.5, 0, 'Co-occurrence counts within ChEMBL28'),\n",
       " Text(0, 0.5, 'ECFP1-like substructures co-occurrences')]"
      ]
     },
     "execution_count": 10,
     "metadata": {},
     "output_type": "execute_result"
    },
    {
     "data": {
      "image/png": "[encoded data removed]",
      "text/plain": [
       "<Figure size 842.4x595.44 with 1 Axes>"
      ]
     },
     "metadata": {},
     "output_type": "display_data"
    }
   ],
   "source": [
    "a4_dims = (11.7, 8.27)\n",
    "sns.set_style(\"whitegrid\")\n",
    "fig, ax = plt.subplots(figsize=a4_dims)\n",
    "sns.histplot(cooccurrence_values, log_scale=True, discrete=True)\n",
    "ax.set(title=f\"Co-occurrence counts of {FEATURES_NAME} in {DATASET_NAME}\",\n",
    "        xlabel=f\"Co-occurrence counts within {DATASET_NAME}\", ylabel=f\"{FEATURES_NAME} co-occurrences\")"
   ]
  },
  {
   "cell_type": "code",
   "execution_count": 11,
   "metadata": {},
   "outputs": [
    {
     "name": "stdout",
     "output_type": "stream",
     "text": [
      "The maximum theoretical number of different feature interrelations of the observed ECFP1-like substructures within ChEMBL28 would be 3673405, whereas the number of actual observed interrelations is only 190723. Therefore, the interrelation matrix population ratio is approx. 0.0519.\n"
     ]
    }
   ],
   "source": [
    "print(f\"The maximum theoretical number of different feature interrelations of the observed {FEATURES_NAME} \\\n",
    "within {DATASET_NAME} would be {int(p.num_max_interrelations())}, whereas the number of actual observed \\\n",
    "interrelations is only {p.num_raw_interrelations()}. Therefore, the interrelation matrix population ratio is \\\n",
    "approx. {p.num_raw_interrelations() / p.num_max_interrelations():.4f}.\")"
   ]
  },
  {
   "cell_type": "code",
   "execution_count": 12,
   "metadata": {
    "pycharm": {
     "name": "#%%\n"
    }
   },
   "outputs": [
    {
     "name": "stdout",
     "output_type": "stream",
     "text": [
      "The mean co-occurrence value for ECFP1-like substructures within ChEMBL28 is 1465.23, with the standard deviation of 15074.57. The mean stand-alone value is 12437.96, with the standard deviation of 82150.28.\n"
     ]
    }
   ],
   "source": [
    "print(f\"The mean co-occurrence value for {FEATURES_NAME} within {DATASET_NAME} \\\n",
    "is {p.mean_raw_interrelation_value():.2f}, \\\n",
    "with the standard deviation of {p.standard_raw_interrelation_deviation():.2f}. \\\n",
    "The mean stand-alone value is {p.mean_self_relation_value():.2f}, \\\n",
    "with the standard deviation of {p.standard_self_relation_deviation():.2f}.\")"
   ]
  },
  {
   "cell_type": "markdown",
   "metadata": {},
   "source": [
    "## General characterization of pointwise mutual information profile"
   ]
  },
  {
   "cell_type": "code",
   "execution_count": 13,
   "metadata": {},
   "outputs": [
    {
     "data": {
      "text/plain": [
       "<fip.profiles.PointwiseMutualInformationProfile at 0x7f44e241abd0>"
      ]
     },
     "execution_count": 13,
     "metadata": {},
     "output_type": "execute_result"
    }
   ],
   "source": [
    "p = profiles.PointwiseMutualInformationProfile.from_cooccurrence_probability_profile(\n",
    "    profiles.CooccurrenceProbabilityProfile.from_cooccurrence_profile(\n",
    "        p, vector_count=COOCCURRENCE_MX_VECTOR_COUNT))\n",
    "p"
   ]
  },
  {
   "cell_type": "code",
   "execution_count": 14,
   "metadata": {},
   "outputs": [
    {
     "data": {
      "text/html": [
       "<div>\n",
       "<style scoped>\n",
       "    .dataframe tbody tr th:only-of-type {\n",
       "        vertical-align: middle;\n",
       "    }\n",
       "\n",
       "    .dataframe tbody tr th {\n",
       "        vertical-align: top;\n",
       "    }\n",
       "\n",
       "    .dataframe thead th {\n",
       "        text-align: right;\n",
       "    }\n",
       "</style>\n",
       "<table border=\"1\" class=\"dataframe\">\n",
       "  <thead>\n",
       "    <tr style=\"text-align: right;\">\n",
       "      <th></th>\n",
       "      <th></th>\n",
       "      <th>value</th>\n",
       "    </tr>\n",
       "    <tr>\n",
       "      <th>feature1</th>\n",
       "      <th>feature2</th>\n",
       "      <th></th>\n",
       "    </tr>\n",
       "  </thead>\n",
       "  <tbody>\n",
       "    <tr>\n",
       "      <th rowspan=\"5\" valign=\"top\">C=O</th>\n",
       "      <th>C=O</th>\n",
       "      <td>0.000000</td>\n",
       "    </tr>\n",
       "    <tr>\n",
       "      <th>Cc(c)c</th>\n",
       "      <td>0.336752</td>\n",
       "    </tr>\n",
       "    <tr>\n",
       "      <th>c-n(c)n</th>\n",
       "      <td>-0.021437</td>\n",
       "    </tr>\n",
       "    <tr>\n",
       "      <th>c=O</th>\n",
       "      <td>-0.350960</td>\n",
       "    </tr>\n",
       "    <tr>\n",
       "      <th>cC</th>\n",
       "      <td>-0.038451</td>\n",
       "    </tr>\n",
       "    <tr>\n",
       "      <th>...</th>\n",
       "      <th>...</th>\n",
       "      <td>...</td>\n",
       "    </tr>\n",
       "    <tr>\n",
       "      <th>[N+][N-]S</th>\n",
       "      <th>cn(C)n</th>\n",
       "      <td>0.865606</td>\n",
       "    </tr>\n",
       "    <tr>\n",
       "      <th>[N-][N+](=O)[O-]</th>\n",
       "      <th>c=N</th>\n",
       "      <td>5.737005</td>\n",
       "    </tr>\n",
       "    <tr>\n",
       "      <th>c=N</th>\n",
       "      <th>cS([N-])(=O)=O</th>\n",
       "      <td>2.396381</td>\n",
       "    </tr>\n",
       "    <tr>\n",
       "      <th>CCI</th>\n",
       "      <th>NS(=O)(=O)O</th>\n",
       "      <td>3.943011</td>\n",
       "    </tr>\n",
       "    <tr>\n",
       "      <th>NS(=O)(=O)O</th>\n",
       "      <th>cc(n)Br</th>\n",
       "      <td>1.848521</td>\n",
       "    </tr>\n",
       "  </tbody>\n",
       "</table>\n",
       "<p>193434 rows × 1 columns</p>\n",
       "</div>"
      ],
      "text/plain": [
       "                                    value\n",
       "feature1         feature2                \n",
       "C=O              C=O             0.000000\n",
       "                 Cc(c)c          0.336752\n",
       "                 c-n(c)n        -0.021437\n",
       "                 c=O            -0.350960\n",
       "                 cC             -0.038451\n",
       "...                                   ...\n",
       "[N+][N-]S        cn(C)n          0.865606\n",
       "[N-][N+](=O)[O-] c=N             5.737005\n",
       "c=N              cS([N-])(=O)=O  2.396381\n",
       "CCI              NS(=O)(=O)O     3.943011\n",
       "NS(=O)(=O)O      cc(n)Br         1.848521\n",
       "\n",
       "[193434 rows x 1 columns]"
      ]
     },
     "execution_count": 14,
     "metadata": {},
     "output_type": "execute_result"
    }
   ],
   "source": [
    "p.df"
   ]
  },
  {
   "cell_type": "code",
   "execution_count": 15,
   "metadata": {},
   "outputs": [
    {
     "data": {
      "text/plain": [
       "feature1          feature2      \n",
       "C=O               Cc(c)c            0.336752\n",
       "                  c-n(c)n          -0.021437\n",
       "                  c=O              -0.350960\n",
       "                  cC               -0.038451\n",
       "                  cC(c)=O           0.536921\n",
       "                                      ...   \n",
       "[N+][N-]S         cn(C)n            0.865606\n",
       "[N-][N+](=O)[O-]  c=N               5.737005\n",
       "c=N               cS([N-])(=O)=O    2.396381\n",
       "CCI               NS(=O)(=O)O       3.943011\n",
       "NS(=O)(=O)O       cc(n)Br           1.848521\n",
       "Name: value, Length: 190723, dtype: float64"
      ]
     },
     "execution_count": 15,
     "metadata": {},
     "output_type": "execute_result"
    }
   ],
   "source": [
    "pmi_values = p.select_raw_interrelations()['value']\n",
    "pmi_values"
   ]
  },
  {
   "cell_type": "code",
   "execution_count": 16,
   "metadata": {
    "scrolled": false
   },
   "outputs": [
    {
     "data": {
      "text/plain": [
       "[Text(0.5, 1.0, 'PMI value distribution for ECFP1-like substructures in ChEMBL28'),\n",
       " Text(0.5, 0, 'PMI value bins within ChEMBL28'),\n",
       " Text(0, 0.5, 'ECFP1-like substructures counts')]"
      ]
     },
     "execution_count": 16,
     "metadata": {},
     "output_type": "execute_result"
    },
    {
     "data": {
      "image/png": "[encoded data removed]",
      "text/plain": [
       "<Figure size 842.4x595.44 with 1 Axes>"
      ]
     },
     "metadata": {},
     "output_type": "display_data"
    }
   ],
   "source": [
    "a4_dims = (11.7, 8.27)\n",
    "sns.set_style(\"whitegrid\")\n",
    "fig, ax = plt.subplots(figsize=a4_dims)\n",
    "sns.histplot(pmi_values, binwidth=0.5, binrange=(-7, 22))\n",
    "ax.set(title=f\"PMI value distribution for {FEATURES_NAME} in {DATASET_NAME}\",\n",
    "        xlabel=f\"PMI value bins within {DATASET_NAME}\", ylabel=f\"{FEATURES_NAME} counts\")"
   ]
  },
  {
   "cell_type": "code",
   "execution_count": 17,
   "metadata": {},
   "outputs": [
    {
     "name": "stdout",
     "output_type": "stream",
     "text": [
      "The mean PMI value for ECFP1-like substructures within ChEMBL28 is 0.47, with the standard deviation of 2.90. The mean stand-alone value is 0.00, with the standard deviation of 0.00.\n"
     ]
    }
   ],
   "source": [
    "print(f\"The mean PMI value for {FEATURES_NAME} within {DATASET_NAME} \\\n",
    "is {p.mean_raw_interrelation_value():.2f}, \\\n",
    "with the standard deviation of {p.standard_raw_interrelation_deviation():.2f}. \\\n",
    "The mean stand-alone value is {p.mean_self_relation_value():.2f}, \\\n",
    "with the standard deviation of {p.standard_self_relation_deviation():.2f}.\")"
   ]
  },
  {
   "cell_type": "code",
   "execution_count": 18,
   "metadata": {},
   "outputs": [
    {
     "ename": "KeyboardInterrupt",
     "evalue": "",
     "output_type": "error",
     "traceback": [
      "\u001B[0;31m---------------------------------------------------------------------------\u001B[0m",
      "\u001B[0;31mKeyError\u001B[0m                                  Traceback (most recent call last)",
      "\u001B[0;32m/mnt/452308c9-7ed6-44ac-8976-8ff76a8974cc/projects/interrelation_matrices/fip3/fip/profiles.py\u001B[0m in \u001B[0;36minterrelation_value\u001B[0;34m(self, f1, f2)\u001B[0m\n\u001B[1;32m    183\u001B[0m             \u001B[0;32mif\u001B[0m \u001B[0mf1\u001B[0m \u001B[0;34m<=\u001B[0m \u001B[0mf2\u001B[0m\u001B[0;34m:\u001B[0m\u001B[0;34m\u001B[0m\u001B[0;34m\u001B[0m\u001B[0m\n\u001B[0;32m--> 184\u001B[0;31m                 \u001B[0;32mreturn\u001B[0m \u001B[0mself\u001B[0m\u001B[0;34m.\u001B[0m\u001B[0mdf\u001B[0m\u001B[0;34m.\u001B[0m\u001B[0mat\u001B[0m\u001B[0;34m[\u001B[0m\u001B[0;34m(\u001B[0m\u001B[0mf1\u001B[0m\u001B[0;34m,\u001B[0m \u001B[0mf2\u001B[0m\u001B[0;34m)\u001B[0m\u001B[0;34m,\u001B[0m \u001B[0;34m'value'\u001B[0m\u001B[0;34m]\u001B[0m\u001B[0;34m\u001B[0m\u001B[0;34m\u001B[0m\u001B[0m\n\u001B[0m\u001B[1;32m    185\u001B[0m             \u001B[0;32melse\u001B[0m\u001B[0;34m:\u001B[0m\u001B[0;34m\u001B[0m\u001B[0;34m\u001B[0m\u001B[0m\n",
      "\u001B[0;32m~/miniconda3/envs/fip2/lib/python3.7/site-packages/pandas/core/indexing.py\u001B[0m in \u001B[0;36m__getitem__\u001B[0;34m(self, key)\u001B[0m\n\u001B[1;32m   2274\u001B[0m \u001B[0;34m\u001B[0m\u001B[0m\n\u001B[0;32m-> 2275\u001B[0;31m         \u001B[0;32mreturn\u001B[0m \u001B[0msuper\u001B[0m\u001B[0;34m(\u001B[0m\u001B[0;34m)\u001B[0m\u001B[0;34m.\u001B[0m\u001B[0m__getitem__\u001B[0m\u001B[0;34m(\u001B[0m\u001B[0mkey\u001B[0m\u001B[0;34m)\u001B[0m\u001B[0;34m\u001B[0m\u001B[0;34m\u001B[0m\u001B[0m\n\u001B[0m\u001B[1;32m   2276\u001B[0m \u001B[0;34m\u001B[0m\u001B[0m\n",
      "\u001B[0;32m~/miniconda3/envs/fip2/lib/python3.7/site-packages/pandas/core/indexing.py\u001B[0m in \u001B[0;36m__getitem__\u001B[0;34m(self, key)\u001B[0m\n\u001B[1;32m   2221\u001B[0m         \u001B[0mkey\u001B[0m \u001B[0;34m=\u001B[0m \u001B[0mself\u001B[0m\u001B[0;34m.\u001B[0m\u001B[0m_convert_key\u001B[0m\u001B[0;34m(\u001B[0m\u001B[0mkey\u001B[0m\u001B[0;34m)\u001B[0m\u001B[0;34m\u001B[0m\u001B[0;34m\u001B[0m\u001B[0m\n\u001B[0;32m-> 2222\u001B[0;31m         \u001B[0;32mreturn\u001B[0m \u001B[0mself\u001B[0m\u001B[0;34m.\u001B[0m\u001B[0mobj\u001B[0m\u001B[0;34m.\u001B[0m\u001B[0m_get_value\u001B[0m\u001B[0;34m(\u001B[0m\u001B[0;34m*\u001B[0m\u001B[0mkey\u001B[0m\u001B[0;34m,\u001B[0m \u001B[0mtakeable\u001B[0m\u001B[0;34m=\u001B[0m\u001B[0mself\u001B[0m\u001B[0;34m.\u001B[0m\u001B[0m_takeable\u001B[0m\u001B[0;34m)\u001B[0m\u001B[0;34m\u001B[0m\u001B[0;34m\u001B[0m\u001B[0m\n\u001B[0m\u001B[1;32m   2223\u001B[0m \u001B[0;34m\u001B[0m\u001B[0m\n",
      "\u001B[0;32m~/miniconda3/envs/fip2/lib/python3.7/site-packages/pandas/core/frame.py\u001B[0m in \u001B[0;36m_get_value\u001B[0;34m(self, index, col, takeable)\u001B[0m\n\u001B[1;32m   3578\u001B[0m         \u001B[0;32mtry\u001B[0m\u001B[0;34m:\u001B[0m\u001B[0;34m\u001B[0m\u001B[0;34m\u001B[0m\u001B[0m\n\u001B[0;32m-> 3579\u001B[0;31m             \u001B[0mloc\u001B[0m \u001B[0;34m=\u001B[0m \u001B[0mengine\u001B[0m\u001B[0;34m.\u001B[0m\u001B[0mget_loc\u001B[0m\u001B[0;34m(\u001B[0m\u001B[0mindex\u001B[0m\u001B[0;34m)\u001B[0m\u001B[0;34m\u001B[0m\u001B[0;34m\u001B[0m\u001B[0m\n\u001B[0m\u001B[1;32m   3580\u001B[0m             \u001B[0;32mreturn\u001B[0m \u001B[0mseries\u001B[0m\u001B[0;34m.\u001B[0m\u001B[0m_values\u001B[0m\u001B[0;34m[\u001B[0m\u001B[0mloc\u001B[0m\u001B[0;34m]\u001B[0m\u001B[0;34m\u001B[0m\u001B[0;34m\u001B[0m\u001B[0m\n",
      "\u001B[0;32m~/miniconda3/envs/fip2/lib/python3.7/site-packages/pandas/_libs/index.pyx\u001B[0m in \u001B[0;36mpandas._libs.index.BaseMultiIndexCodesEngine.get_loc\u001B[0;34m()\u001B[0m\n",
      "\u001B[0;32m~/miniconda3/envs/fip2/lib/python3.7/site-packages/pandas/_libs/index.pyx\u001B[0m in \u001B[0;36mpandas._libs.index.IndexEngine.get_loc\u001B[0;34m()\u001B[0m\n",
      "\u001B[0;32m~/miniconda3/envs/fip2/lib/python3.7/site-packages/pandas/_libs/index.pyx\u001B[0m in \u001B[0;36mpandas._libs.index.IndexEngine.get_loc\u001B[0;34m()\u001B[0m\n",
      "\u001B[0;32mpandas/_libs/hashtable_class_helper.pxi\u001B[0m in \u001B[0;36mpandas._libs.hashtable.UInt64HashTable.get_item\u001B[0;34m()\u001B[0m\n",
      "\u001B[0;32mpandas/_libs/hashtable_class_helper.pxi\u001B[0m in \u001B[0;36mpandas._libs.hashtable.UInt64HashTable.get_item\u001B[0;34m()\u001B[0m\n",
      "\u001B[0;31mKeyError\u001B[0m: 9324824",
      "\nDuring handling of the above exception, another exception occurred:\n",
      "\u001B[0;31mKeyboardInterrupt\u001B[0m                         Traceback (most recent call last)",
      "\u001B[0;32m/tmp/ipykernel_12876/3083579972.py\u001B[0m in \u001B[0;36m<module>\u001B[0;34m\u001B[0m\n\u001B[0;32m----> 1\u001B[0;31m \u001B[0mmajor_pmi_values\u001B[0m \u001B[0;34m=\u001B[0m \u001B[0mp\u001B[0m\u001B[0;34m.\u001B[0m\u001B[0mselect_major_interrelations\u001B[0m\u001B[0;34m(\u001B[0m\u001B[0;34m)\u001B[0m\u001B[0;34m[\u001B[0m\u001B[0;34m'value'\u001B[0m\u001B[0;34m]\u001B[0m\u001B[0;34m\u001B[0m\u001B[0;34m\u001B[0m\u001B[0m\n\u001B[0m\u001B[1;32m      2\u001B[0m \u001B[0mmajor_pmi_values\u001B[0m\u001B[0;34m\u001B[0m\u001B[0;34m\u001B[0m\u001B[0m\n",
      "\u001B[0;32m/mnt/452308c9-7ed6-44ac-8976-8ff76a8974cc/projects/interrelation_matrices/fip3/fip/profiles.py\u001B[0m in \u001B[0;36mselect_major_interrelations\u001B[0;34m(self, zscore_cutoff)\u001B[0m\n\u001B[1;32m    135\u001B[0m         \"\"\"\n\u001B[1;32m    136\u001B[0m         \u001B[0mmean\u001B[0m \u001B[0;34m=\u001B[0m \u001B[0mself\u001B[0m\u001B[0;34m.\u001B[0m\u001B[0mmean_interrelation_value\u001B[0m\u001B[0;34m(\u001B[0m\u001B[0;34m)\u001B[0m\u001B[0;34m\u001B[0m\u001B[0;34m\u001B[0m\u001B[0m\n\u001B[0;32m--> 137\u001B[0;31m         \u001B[0mstandard_deviation\u001B[0m \u001B[0;34m=\u001B[0m \u001B[0mself\u001B[0m\u001B[0;34m.\u001B[0m\u001B[0mstandard_interrelation_deviation\u001B[0m\u001B[0;34m(\u001B[0m\u001B[0;34m)\u001B[0m\u001B[0;34m\u001B[0m\u001B[0;34m\u001B[0m\u001B[0m\n\u001B[0m\u001B[1;32m    138\u001B[0m         \u001B[0mlower_cutoff\u001B[0m \u001B[0;34m=\u001B[0m \u001B[0mmean\u001B[0m \u001B[0;34m-\u001B[0m \u001B[0mzscore_cutoff\u001B[0m \u001B[0;34m*\u001B[0m \u001B[0mstandard_deviation\u001B[0m\u001B[0;34m\u001B[0m\u001B[0;34m\u001B[0m\u001B[0m\n\u001B[1;32m    139\u001B[0m         \u001B[0mhigher_cutoff\u001B[0m \u001B[0;34m=\u001B[0m \u001B[0mmean\u001B[0m \u001B[0;34m+\u001B[0m \u001B[0mzscore_cutoff\u001B[0m \u001B[0;34m*\u001B[0m \u001B[0mstandard_deviation\u001B[0m\u001B[0;34m\u001B[0m\u001B[0;34m\u001B[0m\u001B[0m\n",
      "\u001B[0;32m/mnt/452308c9-7ed6-44ac-8976-8ff76a8974cc/projects/interrelation_matrices/fip3/fip/profiles.py\u001B[0m in \u001B[0;36mstandard_interrelation_deviation\u001B[0;34m(self)\u001B[0m\n\u001B[1;32m    582\u001B[0m         \u001B[0;34m:\u001B[0m\u001B[0;32mreturn\u001B[0m\u001B[0;34m:\u001B[0m \u001B[0mthe\u001B[0m \u001B[0mstandard\u001B[0m \u001B[0mdeviation\u001B[0m \u001B[0mvalue\u001B[0m \u001B[0mof\u001B[0m \u001B[0minterrelations\u001B[0m \u001B[0;32mas\u001B[0m \u001B[0ma\u001B[0m \u001B[0mfloat\u001B[0m\u001B[0;34m\u001B[0m\u001B[0;34m\u001B[0m\u001B[0m\n\u001B[1;32m    583\u001B[0m         \"\"\"\n\u001B[0;32m--> 584\u001B[0;31m         \u001B[0mmean\u001B[0m \u001B[0;34m=\u001B[0m \u001B[0mself\u001B[0m\u001B[0;34m.\u001B[0m\u001B[0mmean_interrelation_value\u001B[0m\u001B[0;34m(\u001B[0m\u001B[0;34m)\u001B[0m\u001B[0;34m\u001B[0m\u001B[0;34m\u001B[0m\u001B[0m\n\u001B[0m\u001B[1;32m    585\u001B[0m         \u001B[0msum_raw_squared_differences\u001B[0m \u001B[0;34m=\u001B[0m \u001B[0;36m0\u001B[0m\u001B[0;34m\u001B[0m\u001B[0;34m\u001B[0m\u001B[0m\n\u001B[1;32m    586\u001B[0m         \u001B[0mcount_interrelations\u001B[0m \u001B[0;34m=\u001B[0m \u001B[0;36m0\u001B[0m\u001B[0;34m\u001B[0m\u001B[0;34m\u001B[0m\u001B[0m\n",
      "\u001B[0;32m/mnt/452308c9-7ed6-44ac-8976-8ff76a8974cc/projects/interrelation_matrices/fip3/fip/profiles.py\u001B[0m in \u001B[0;36mmean_interrelation_value\u001B[0;34m(self)\u001B[0m\n\u001B[1;32m    571\u001B[0m         \u001B[0mpmi_sum\u001B[0m \u001B[0;34m=\u001B[0m \u001B[0;36m0.0\u001B[0m\u001B[0;34m\u001B[0m\u001B[0;34m\u001B[0m\u001B[0m\n\u001B[1;32m    572\u001B[0m         \u001B[0mnum_interrelations\u001B[0m \u001B[0;34m=\u001B[0m \u001B[0;36m0\u001B[0m\u001B[0;34m\u001B[0m\u001B[0;34m\u001B[0m\u001B[0m\n\u001B[0;32m--> 573\u001B[0;31m         \u001B[0;32mfor\u001B[0m \u001B[0mf1\u001B[0m\u001B[0;34m,\u001B[0m \u001B[0mf2\u001B[0m\u001B[0;34m,\u001B[0m \u001B[0mvalue\u001B[0m \u001B[0;32min\u001B[0m \u001B[0mself\u001B[0m\u001B[0;34m.\u001B[0m\u001B[0miterate_feature_interrelations\u001B[0m\u001B[0;34m(\u001B[0m\u001B[0;34m)\u001B[0m\u001B[0;34m:\u001B[0m\u001B[0;34m\u001B[0m\u001B[0;34m\u001B[0m\u001B[0m\n\u001B[0m\u001B[1;32m    574\u001B[0m             \u001B[0mpmi_sum\u001B[0m \u001B[0;34m+=\u001B[0m \u001B[0mvalue\u001B[0m\u001B[0;34m\u001B[0m\u001B[0;34m\u001B[0m\u001B[0m\n\u001B[1;32m    575\u001B[0m             \u001B[0mnum_interrelations\u001B[0m \u001B[0;34m+=\u001B[0m \u001B[0;36m1\u001B[0m\u001B[0;34m\u001B[0m\u001B[0;34m\u001B[0m\u001B[0m\n",
      "\u001B[0;32m/mnt/452308c9-7ed6-44ac-8976-8ff76a8974cc/projects/interrelation_matrices/fip3/fip/profiles.py\u001B[0m in \u001B[0;36miterate_feature_interrelations\u001B[0;34m(self)\u001B[0m\n\u001B[1;32m    222\u001B[0m         \"\"\"\n\u001B[1;32m    223\u001B[0m         \u001B[0;32mfor\u001B[0m \u001B[0mf1\u001B[0m\u001B[0;34m,\u001B[0m \u001B[0mf2\u001B[0m \u001B[0;32min\u001B[0m \u001B[0mself\u001B[0m\u001B[0;34m.\u001B[0m\u001B[0mfeatures2cooccurrences\u001B[0m\u001B[0;34m(\u001B[0m\u001B[0mself\u001B[0m\u001B[0;34m.\u001B[0m\u001B[0mdistinct_features\u001B[0m\u001B[0;34m(\u001B[0m\u001B[0;34m)\u001B[0m\u001B[0;34m,\u001B[0m \u001B[0momit_self_relations\u001B[0m\u001B[0;34m=\u001B[0m\u001B[0;32mTrue\u001B[0m\u001B[0;34m)\u001B[0m\u001B[0;34m:\u001B[0m\u001B[0;34m\u001B[0m\u001B[0;34m\u001B[0m\u001B[0m\n\u001B[0;32m--> 224\u001B[0;31m             \u001B[0;32myield\u001B[0m \u001B[0mf1\u001B[0m\u001B[0;34m,\u001B[0m \u001B[0mf2\u001B[0m\u001B[0;34m,\u001B[0m \u001B[0mself\u001B[0m\u001B[0;34m.\u001B[0m\u001B[0minterrelation_value\u001B[0m\u001B[0;34m(\u001B[0m\u001B[0mf1\u001B[0m\u001B[0;34m,\u001B[0m \u001B[0mf2\u001B[0m\u001B[0;34m)\u001B[0m\u001B[0;34m\u001B[0m\u001B[0;34m\u001B[0m\u001B[0m\n\u001B[0m\u001B[1;32m    225\u001B[0m \u001B[0;34m\u001B[0m\u001B[0m\n\u001B[1;32m    226\u001B[0m     \u001B[0;32mdef\u001B[0m \u001B[0mnum_max_interrelations\u001B[0m\u001B[0;34m(\u001B[0m\u001B[0mself\u001B[0m\u001B[0;34m)\u001B[0m\u001B[0;34m:\u001B[0m\u001B[0;34m\u001B[0m\u001B[0;34m\u001B[0m\u001B[0m\n",
      "\u001B[0;32m/mnt/452308c9-7ed6-44ac-8976-8ff76a8974cc/projects/interrelation_matrices/fip3/fip/profiles.py\u001B[0m in \u001B[0;36minterrelation_value\u001B[0;34m(self, f1, f2)\u001B[0m\n\u001B[1;32m    186\u001B[0m                 \u001B[0;32mreturn\u001B[0m \u001B[0mself\u001B[0m\u001B[0;34m.\u001B[0m\u001B[0mdf\u001B[0m\u001B[0;34m.\u001B[0m\u001B[0mat\u001B[0m\u001B[0;34m[\u001B[0m\u001B[0;34m(\u001B[0m\u001B[0mf2\u001B[0m\u001B[0;34m,\u001B[0m \u001B[0mf1\u001B[0m\u001B[0;34m)\u001B[0m\u001B[0;34m,\u001B[0m \u001B[0;34m'value'\u001B[0m\u001B[0;34m]\u001B[0m\u001B[0;34m\u001B[0m\u001B[0;34m\u001B[0m\u001B[0m\n\u001B[1;32m    187\u001B[0m         \u001B[0;32mexcept\u001B[0m \u001B[0mKeyError\u001B[0m\u001B[0;34m:\u001B[0m\u001B[0;34m\u001B[0m\u001B[0;34m\u001B[0m\u001B[0m\n\u001B[0;32m--> 188\u001B[0;31m             \u001B[0;32mreturn\u001B[0m \u001B[0mself\u001B[0m\u001B[0;34m.\u001B[0m\u001B[0mget_imputation_value\u001B[0m\u001B[0;34m(\u001B[0m\u001B[0mf1\u001B[0m\u001B[0;34m,\u001B[0m \u001B[0mf2\u001B[0m\u001B[0;34m)\u001B[0m\u001B[0;34m\u001B[0m\u001B[0;34m\u001B[0m\u001B[0m\n\u001B[0m\u001B[1;32m    189\u001B[0m \u001B[0;34m\u001B[0m\u001B[0m\n\u001B[1;32m    190\u001B[0m     \u001B[0;32mdef\u001B[0m \u001B[0mfeatures_interrelation_values\u001B[0m\u001B[0;34m(\u001B[0m\u001B[0mself\u001B[0m\u001B[0;34m,\u001B[0m \u001B[0mfeatures\u001B[0m\u001B[0;34m,\u001B[0m \u001B[0;34m*\u001B[0m\u001B[0;34m,\u001B[0m \u001B[0momit_self_relations\u001B[0m\u001B[0;34m=\u001B[0m\u001B[0;32mFalse\u001B[0m\u001B[0;34m)\u001B[0m\u001B[0;34m:\u001B[0m\u001B[0;34m\u001B[0m\u001B[0;34m\u001B[0m\u001B[0m\n",
      "\u001B[0;32m/mnt/452308c9-7ed6-44ac-8976-8ff76a8974cc/projects/interrelation_matrices/fip3/fip/profiles.py\u001B[0m in \u001B[0;36mget_imputation_value\u001B[0;34m(self, feature1, feature2)\u001B[0m\n\u001B[1;32m    561\u001B[0m         \u001B[0mfeature2_imputation_probability\u001B[0m \u001B[0;34m=\u001B[0m \u001B[0mimputable_marginals\u001B[0m\u001B[0;34m.\u001B[0m\u001B[0mget\u001B[0m\u001B[0;34m(\u001B[0m\u001B[0mfeature2\u001B[0m\u001B[0;34m,\u001B[0m \u001B[0mgeneric_imputation_probability\u001B[0m\u001B[0;34m)\u001B[0m\u001B[0;34m\u001B[0m\u001B[0;34m\u001B[0m\u001B[0m\n\u001B[1;32m    562\u001B[0m         return numpy.log2(generic_imputation_probability\n\u001B[0;32m--> 563\u001B[0;31m                           / (feature1_imputation_probability * feature2_imputation_probability))\n\u001B[0m\u001B[1;32m    564\u001B[0m \u001B[0;34m\u001B[0m\u001B[0m\n\u001B[1;32m    565\u001B[0m     \u001B[0;32mdef\u001B[0m \u001B[0mmean_interrelation_value\u001B[0m\u001B[0;34m(\u001B[0m\u001B[0mself\u001B[0m\u001B[0;34m)\u001B[0m\u001B[0;34m:\u001B[0m\u001B[0;34m\u001B[0m\u001B[0;34m\u001B[0m\u001B[0m\n",
      "\u001B[0;31mKeyboardInterrupt\u001B[0m: "
     ]
    }
   ],
   "source": [
    "major_pmi_values = p.select_major_interrelations()['value']\n",
    "major_pmi_values"
   ]
  },
  {
   "cell_type": "code",
   "execution_count": null,
   "metadata": {},
   "outputs": [],
   "source": [
    "a4_dims = (11.7, 8.27)\n",
    "sns.set_style(\"whitegrid\")\n",
    "fig, ax = plt.subplots(figsize=a4_dims)\n",
    "sns.histplot(major_pmi_values, binwidth=0.5, binrange=(-7, 22))\n",
    "ax.set(title=f\"Major PMI value distribution for {FEATURES_NAME} in {DATASET_NAME}\",\n",
    "        xlabel=f\"PMI value bins within {DATASET_NAME}\", ylabel=f\"{FEATURES_NAME} counts\")"
   ]
  },
  {
   "cell_type": "code",
   "execution_count": null,
   "metadata": {},
   "outputs": [],
   "source": []
  }
 ],
 "metadata": {
  "kernelspec": {
   "display_name": "Python 3 (ipykernel)",
   "language": "python",
   "name": "python3"
  },
  "language_info": {
   "codemirror_mode": {
    "name": "ipython",
    "version": 3
   },
   "file_extension": ".py",
   "mimetype": "text/x-python",
   "name": "python",
   "nbconvert_exporter": "python",
   "pygments_lexer": "ipython3",
   "version": "3.7.10"
  }
 },
 "nbformat": 4,
 "nbformat_minor": 1
}