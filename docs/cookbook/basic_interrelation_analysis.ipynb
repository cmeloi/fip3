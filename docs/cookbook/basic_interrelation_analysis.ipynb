{
 "cells": [
  {
   "cell_type": "markdown",
   "metadata": {},
   "source": [
    "# Basic feature interrelation analysis using the 'fip3' library"
   ]
  },
  {
   "cell_type": "code",
   "execution_count": 1,
   "metadata": {},
   "outputs": [],
   "source": [
    "import pandas as pd\n",
    "import seaborn as sns\n",
    "import matplotlib.pyplot as plt\n",
    "\n",
    "from fip import profiles"
   ]
  },
  {
   "cell_type": "code",
   "execution_count": 2,
   "metadata": {},
   "outputs": [],
   "source": [
    "DATASET_NAME = 'ChEMBL28'\n",
    "FEATURES_NAME = 'ECFP1-like substructures'\n",
    "COOCCURRENCE_MX_LINK = '../../scratch/data/chembl_28/ec_fragments_r1_coomx.csv'"
   ]
  },
  {
   "cell_type": "markdown",
   "metadata": {},
   "source": [
    "## Loading interrelation profiles\n",
    "From interrelation files already preprocessed by scripts in fip3/scripts"
   ]
  },
  {
   "cell_type": "code",
   "execution_count": 3,
   "metadata": {},
   "outputs": [
    {
     "data": {
      "text/plain": [
       "<fip.profiles.CooccurrenceProfile at 0x7f3722c0bc50>"
      ]
     },
     "execution_count": 3,
     "metadata": {},
     "output_type": "execute_result"
    }
   ],
   "source": [
    "p = profiles.CooccurrenceProfile.from_dataframe(\n",
    "    pd.read_csv(COOCCURRENCE_MX_LINK))\n",
    "p"
   ]
  },
  {
   "cell_type": "code",
   "execution_count": 4,
   "metadata": {},
   "outputs": [
    {
     "data": {
      "text/html": [
       "<div>\n",
       "<style scoped>\n",
       "    .dataframe tbody tr th:only-of-type {\n",
       "        vertical-align: middle;\n",
       "    }\n",
       "\n",
       "    .dataframe tbody tr th {\n",
       "        vertical-align: top;\n",
       "    }\n",
       "\n",
       "    .dataframe thead th {\n",
       "        text-align: right;\n",
       "    }\n",
       "</style>\n",
       "<table border=\"1\" class=\"dataframe\">\n",
       "  <thead>\n",
       "    <tr style=\"text-align: right;\">\n",
       "      <th></th>\n",
       "      <th></th>\n",
       "      <th>value</th>\n",
       "    </tr>\n",
       "    <tr>\n",
       "      <th>feature1</th>\n",
       "      <th>feature2</th>\n",
       "      <th></th>\n",
       "    </tr>\n",
       "  </thead>\n",
       "  <tbody>\n",
       "    <tr>\n",
       "      <th rowspan=\"5\" valign=\"top\">C=O</th>\n",
       "      <th>C=O</th>\n",
       "      <td>1424230</td>\n",
       "    </tr>\n",
       "    <tr>\n",
       "      <th>Cc(c)c</th>\n",
       "      <td>624876</td>\n",
       "    </tr>\n",
       "    <tr>\n",
       "      <th>c-n(c)n</th>\n",
       "      <td>37580</td>\n",
       "    </tr>\n",
       "    <tr>\n",
       "      <th>c=O</th>\n",
       "      <td>120205</td>\n",
       "    </tr>\n",
       "    <tr>\n",
       "      <th>cC</th>\n",
       "      <td>273990</td>\n",
       "    </tr>\n",
       "    <tr>\n",
       "      <th>...</th>\n",
       "      <th>...</th>\n",
       "      <td>...</td>\n",
       "    </tr>\n",
       "    <tr>\n",
       "      <th>OS</th>\n",
       "      <th>cc(n)[Si]</th>\n",
       "      <td>1</td>\n",
       "    </tr>\n",
       "    <tr>\n",
       "      <th>Cc(n)[nH]</th>\n",
       "      <th>nc(n)Br</th>\n",
       "      <td>1</td>\n",
       "    </tr>\n",
       "    <tr>\n",
       "      <th>nc(n)Br</th>\n",
       "      <th>nn[nH]</th>\n",
       "      <td>1</td>\n",
       "    </tr>\n",
       "    <tr>\n",
       "      <th>CN(c)c</th>\n",
       "      <th>[nH]c(o)=S</th>\n",
       "      <td>1</td>\n",
       "    </tr>\n",
       "    <tr>\n",
       "      <th>Cn(n)n</th>\n",
       "      <th>O=S(=O)(O)O</th>\n",
       "      <td>1</td>\n",
       "    </tr>\n",
       "  </tbody>\n",
       "</table>\n",
       "<p>248320 rows × 1 columns</p>\n",
       "</div>"
      ],
      "text/plain": [
       "                         value\n",
       "feature1  feature2            \n",
       "C=O       C=O          1424230\n",
       "          Cc(c)c        624876\n",
       "          c-n(c)n        37580\n",
       "          c=O           120205\n",
       "          cC            273990\n",
       "...                        ...\n",
       "OS        cc(n)[Si]          1\n",
       "Cc(n)[nH] nc(n)Br            1\n",
       "nc(n)Br   nn[nH]             1\n",
       "CN(c)c    [nH]c(o)=S         1\n",
       "Cn(n)n    O=S(=O)(O)O        1\n",
       "\n",
       "[248320 rows x 1 columns]"
      ]
     },
     "execution_count": 4,
     "metadata": {},
     "output_type": "execute_result"
    }
   ],
   "source": [
    "p.df"
   ]
  },
  {
   "cell_type": "code",
   "execution_count": 5,
   "metadata": {},
   "outputs": [
    {
     "name": "stdout",
     "output_type": "stream",
     "text": [
      "There are 3476 distinct ECFP1-like substructures within ChEMBL28.\n"
     ]
    }
   ],
   "source": [
    "print(f\"There are {len(p.distinct_features())} distinct {FEATURES_NAME} within {DATASET_NAME}.\")"
   ]
  },
  {
   "cell_type": "code",
   "execution_count": 6,
   "metadata": {},
   "outputs": [
    {
     "data": {
      "text/plain": [
       "feature1   feature2 \n",
       "C=O        C=O          1424230\n",
       "Cc(c)c     Cc(c)c        717878\n",
       "c-n(c)n    c-n(c)n        55340\n",
       "c=O        c=O           222434\n",
       "cC         cC            408262\n",
       "                         ...   \n",
       "cS(C)(O)O  cS(C)(O)O          1\n",
       "CC(c)(n)O  CC(c)(n)O          1\n",
       "nc(o)I     nc(o)I             1\n",
       "[Al]O[Al]  [Al]O[Al]          1\n",
       "cS(O)(O)O  cS(O)(O)O          1\n",
       "Name: value, Length: 3476, dtype: int64"
      ]
     },
     "execution_count": 6,
     "metadata": {},
     "output_type": "execute_result"
    }
   ],
   "source": [
    "self_relations_values = p.select_self_relations()['value']\n",
    "self_relations_values"
   ]
  },
  {
   "cell_type": "code",
   "execution_count": 7,
   "metadata": {},
   "outputs": [
    {
     "data": {
      "text/plain": [
       "[Text(0.5, 1.0, 'Stand-alone ECFP1-like substructures occurrence in ChEMBL28'),\n",
       " Text(0.5, 0, 'Stand-alone occurrence count within ChEMBL28'),\n",
       " Text(0, 0.5, 'ECFP1-like substructures')]"
      ]
     },
     "execution_count": 7,
     "metadata": {},
     "output_type": "execute_result"
    },
    {
     "data": {
      "image/png": "[encoded data removed]",
      "text/plain": [
       "<Figure size 842.4x595.44 with 1 Axes>"
      ]
     },
     "metadata": {
      "needs_background": "light"
     },
     "output_type": "display_data"
    }
   ],
   "source": [
    "a4_dims = (11.7, 8.27)\n",
    "fig, ax = plt.subplots(figsize=a4_dims)\n",
    "sns.set_style(\"whitegrid\")\n",
    "sns.histplot(self_relations_values, log_scale=True, discrete=True)\n",
    "ax.set(title=f\"Stand-alone {FEATURES_NAME} occurrence in {DATASET_NAME}\",\n",
    "        xlabel=f\"Stand-alone occurrence count within {DATASET_NAME}\", ylabel=f\"{FEATURES_NAME}\")"
   ]
  },
  {
   "cell_type": "code",
   "execution_count": 8,
   "metadata": {},
   "outputs": [
    {
     "data": {
      "text/plain": [
       "feature1   feature2   \n",
       "C=O        Cc(c)c         624876\n",
       "           c-n(c)n         37580\n",
       "           c=O            120205\n",
       "           cC             273990\n",
       "           cC(c)=O         30748\n",
       "                           ...  \n",
       "OS         cc(n)[Si]           1\n",
       "Cc(n)[nH]  nc(n)Br             1\n",
       "nc(n)Br    nn[nH]              1\n",
       "CN(c)c     [nH]c(o)=S          1\n",
       "Cn(n)n     O=S(=O)(O)O         1\n",
       "Name: value, Length: 244844, dtype: int64"
      ]
     },
     "execution_count": 8,
     "metadata": {},
     "output_type": "execute_result"
    }
   ],
   "source": [
    "cooccurrence_values = p.select_raw_interrelations()['value']\n",
    "cooccurrence_values"
   ]
  },
  {
   "cell_type": "code",
   "execution_count": 9,
   "metadata": {},
   "outputs": [
    {
     "name": "stdout",
     "output_type": "stream",
     "text": [
      "There is in total 33720075 feature stand-alone occurrences and 279506562 feature co-occurrences for ECFP1-like substructures within ChEMBL28\n"
     ]
    }
   ],
   "source": [
    "print(f\"There is in total {self_relations_values.sum()} feature stand-alone occurrences and \\\n",
    "{cooccurrence_values.sum()} feature co-occurrences for {FEATURES_NAME} within {DATASET_NAME}\")"
   ]
  },
  {
   "cell_type": "code",
   "execution_count": 10,
   "metadata": {
    "scrolled": false
   },
   "outputs": [
    {
     "data": {
      "text/plain": [
       "[Text(0.5, 1.0, 'Co-occurrence counts of ECFP1-like substructures in ChEMBL28'),\n",
       " Text(0.5, 0, 'Co-occurrence counts within ChEMBL28'),\n",
       " Text(0, 0.5, 'ECFP1-like substructures co-occurrences')]"
      ]
     },
     "execution_count": 10,
     "metadata": {},
     "output_type": "execute_result"
    },
    {
     "data": {
      "image/png": "[encoded data removed]",
      "text/plain": [
       "<Figure size 842.4x595.44 with 1 Axes>"
      ]
     },
     "metadata": {},
     "output_type": "display_data"
    }
   ],
   "source": [
    "a4_dims = (11.7, 8.27)\n",
    "fig, ax = plt.subplots(figsize=a4_dims)\n",
    "sns.set_style(\"whitegrid\")\n",
    "sns.histplot(cooccurrence_values, log_scale=True, discrete=True)\n",
    "ax.set(title=f\"Co-occurrence counts of {FEATURES_NAME} in {DATASET_NAME}\",\n",
    "        xlabel=f\"Co-occurrence counts within {DATASET_NAME}\", ylabel=f\"{FEATURES_NAME} co-occurrences\")"
   ]
  },
  {
   "cell_type": "code",
   "execution_count": 11,
   "metadata": {},
   "outputs": [
    {
     "name": "stdout",
     "output_type": "stream",
     "text": [
      "The maximum theoretical number of different feature interrelations of the observed ECFP1-like substructures within ChEMBL28 would be 6039550, whereas the number of actual observed interrelations is only 244844. Therefore, the interrelation matrix population ratio is approx. 0.0405.\n"
     ]
    }
   ],
   "source": [
    "print(f\"The maximum theoretical number of different feature interrelations of the observed {FEATURES_NAME} \\\n",
    "within {DATASET_NAME} would be {int(p.num_max_interrelations())}, whereas the number of actual observed \\\n",
    "interrelations is only {p.num_raw_interrelations()}. Therefore, the interrelation matrix population ratio is \\\n",
    "approx. {p.num_raw_interrelations() / p.num_max_interrelations():.4f}.\")"
   ]
  }
 ],
 "metadata": {
  "kernelspec": {
   "display_name": "Python 3 (ipykernel)",
   "language": "python",
   "name": "python3"
  },
  "language_info": {
   "codemirror_mode": {
    "name": "ipython",
    "version": 3
   },
   "file_extension": ".py",
   "mimetype": "text/x-python",
   "name": "python",
   "nbconvert_exporter": "python",
   "pygments_lexer": "ipython3",
   "version": "3.7.11"
  }
 },
 "nbformat": 4,
 "nbformat_minor": 1
}