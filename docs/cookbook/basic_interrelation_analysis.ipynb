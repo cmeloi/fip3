{
 "cells": [
  {
   "cell_type": "markdown",
   "metadata": {},
   "source": [
    "# Basic feature interrelation analysis using the 'fip3' library"
   ]
  },
  {
   "cell_type": "code",
   "execution_count": 1,
   "metadata": {},
   "outputs": [],
   "source": [
    "import pandas as pd\n",
    "import seaborn as sns\n",
    "import matplotlib.pyplot as plt\n",
    "import networkx as nx\n",
    "import csv\n",
    "\n",
    "from fip import profiles"
   ]
  },
  {
   "cell_type": "code",
   "execution_count": 45,
   "metadata": {},
   "outputs": [
    {
     "data": {
      "text/plain": [
       "245"
      ]
     },
     "execution_count": 45,
     "metadata": {},
     "output_type": "execute_result"
    }
   ],
   "source": [
    "DATASET_NAME = 'ChEMBL28'\n",
    "DATASET_LINK = '../../scratch/data/chembl_28/chembl_compounds_activities_features.csv'\n",
    "OUTPUT_FIGURE_PATH = '../../scratch/data/chembl_28/pix'\n",
    "\n",
    "FEATURES_NAME = 'ECFP1-like substructures'\n",
    "COOCCURRENCE_MX_LINK = '../../scratch/data/chembl_28/ec_fragments_r1_coomx.csv'\n",
    "COOCCURRENCE_MX_VECTOR_COUNT = 2066376\n",
    "\n",
    "MINIMAL_COOCCURRENCE_CUTOFF = 100  # How many co-occurrences are needed to start tracking the relation\n",
    "\n",
    "HYBRID_FEATURES_NAME = FEATURES_NAME + \" and ChEMBL activities\"\n",
    "HYBRID_COOCCURRENCE_MX_LINK = '../../scratch/data/chembl_28/ec_fragments_r1_activities_coomx.csv'\n",
    "HYBRID_COOCCURRENCE_MX_VECTOR_COUNT = COOCCURRENCE_MX_VECTOR_COUNT\n",
    "\n",
    "REFERENCE_DATASET_NAME = 'ZINC_DM'\n",
    "REFERENCE_DATASET_LINK = '../../scratch/data/zinc_dark_matter/zinc_dm_in_stock_features.csv'\n",
    "REFERENCE_COOCCURRENCE_MX_LINK = '../../scratch/data/zinc_dark_matter/zinc_dm_in_stock_ec_fragments_r1_coomx.csv'\n",
    "REFERENCE_COOCCURRENCE_MX_VECTOR_COUNT = 5063486\n",
    "\n",
    "# Derived from primary dataset, adjusted for size difference\n",
    "REFERENCE_MINIMAL_COOCCURRENCE_CUTOFF = int(MINIMAL_COOCCURRENCE_CUTOFF * \n",
    "                                            (REFERENCE_COOCCURRENCE_MX_VECTOR_COUNT /\n",
    "                                             COOCCURRENCE_MX_VECTOR_COUNT))"
   ]
  },
  {
   "cell_type": "markdown",
   "metadata": {},
   "source": [
    "## Loading interrelation profiles\n",
    "From interrelation files already preprocessed by scripts in fip3/scripts"
   ]
  },
  {
   "cell_type": "code",
   "execution_count": 3,
   "metadata": {},
   "outputs": [
    {
     "data": {
      "text/plain": [
       "<fip.profiles.CooccurrenceProfile at 0x7fb2cacfbdd0>"
      ]
     },
     "execution_count": 3,
     "metadata": {},
     "output_type": "execute_result"
    }
   ],
   "source": [
    "p = profiles.CooccurrenceProfile.from_dataframe(\n",
    "    pd.read_csv(COOCCURRENCE_MX_LINK), min_cutoff_value=MINIMAL_COOCCURRENCE_CUTOFF)\n",
    "p"
   ]
  },
  {
   "cell_type": "code",
   "execution_count": 4,
   "metadata": {
    "scrolled": false
   },
   "outputs": [
    {
     "data": {
      "text/html": [
       "<div>\n",
       "<style scoped>\n",
       "    .dataframe tbody tr th:only-of-type {\n",
       "        vertical-align: middle;\n",
       "    }\n",
       "\n",
       "    .dataframe tbody tr th {\n",
       "        vertical-align: top;\n",
       "    }\n",
       "\n",
       "    .dataframe thead th {\n",
       "        text-align: right;\n",
       "    }\n",
       "</style>\n",
       "<table border=\"1\" class=\"dataframe\">\n",
       "  <thead>\n",
       "    <tr style=\"text-align: right;\">\n",
       "      <th></th>\n",
       "      <th></th>\n",
       "      <th>value</th>\n",
       "    </tr>\n",
       "    <tr>\n",
       "      <th>feature1</th>\n",
       "      <th>feature2</th>\n",
       "      <th></th>\n",
       "    </tr>\n",
       "  </thead>\n",
       "  <tbody>\n",
       "    <tr>\n",
       "      <th rowspan=\"5\" valign=\"top\">C=O</th>\n",
       "      <th>C=O</th>\n",
       "      <td>1424230</td>\n",
       "    </tr>\n",
       "    <tr>\n",
       "      <th>Cc(c)c</th>\n",
       "      <td>624876</td>\n",
       "    </tr>\n",
       "    <tr>\n",
       "      <th>c-n(c)n</th>\n",
       "      <td>37580</td>\n",
       "    </tr>\n",
       "    <tr>\n",
       "      <th>c=O</th>\n",
       "      <td>120205</td>\n",
       "    </tr>\n",
       "    <tr>\n",
       "      <th>cC</th>\n",
       "      <td>273990</td>\n",
       "    </tr>\n",
       "    <tr>\n",
       "      <th>...</th>\n",
       "      <th>...</th>\n",
       "      <td>...</td>\n",
       "    </tr>\n",
       "    <tr>\n",
       "      <th>N=c([nH])n</th>\n",
       "      <th>cc(c)Cl</th>\n",
       "      <td>141</td>\n",
       "    </tr>\n",
       "    <tr>\n",
       "      <th>CCS</th>\n",
       "      <th>cN=S</th>\n",
       "      <td>149</td>\n",
       "    </tr>\n",
       "    <tr>\n",
       "      <th>cn(c)n</th>\n",
       "      <th>nc(-n)[nH]</th>\n",
       "      <td>565</td>\n",
       "    </tr>\n",
       "    <tr>\n",
       "      <th>CC(N)=O</th>\n",
       "      <th>cS(F)(F)(F)(F)F</th>\n",
       "      <td>106</td>\n",
       "    </tr>\n",
       "    <tr>\n",
       "      <th>CC(F)(F)F</th>\n",
       "      <th>nc(-n)[nH]</th>\n",
       "      <td>175</td>\n",
       "    </tr>\n",
       "  </tbody>\n",
       "</table>\n",
       "<p>47478 rows × 1 columns</p>\n",
       "</div>"
      ],
      "text/plain": [
       "                              value\n",
       "feature1   feature2                \n",
       "C=O        C=O              1424230\n",
       "           Cc(c)c            624876\n",
       "           c-n(c)n            37580\n",
       "           c=O               120205\n",
       "           cC                273990\n",
       "...                             ...\n",
       "N=c([nH])n cc(c)Cl              141\n",
       "CCS        cN=S                 149\n",
       "cn(c)n     nc(-n)[nH]           565\n",
       "CC(N)=O    cS(F)(F)(F)(F)F      106\n",
       "CC(F)(F)F  nc(-n)[nH]           175\n",
       "\n",
       "[47478 rows x 1 columns]"
      ]
     },
     "execution_count": 4,
     "metadata": {},
     "output_type": "execute_result"
    }
   ],
   "source": [
    "p.df"
   ]
  },
  {
   "cell_type": "markdown",
   "metadata": {},
   "source": [
    "## General characterization of a co-occurrence profile"
   ]
  },
  {
   "cell_type": "code",
   "execution_count": 5,
   "metadata": {},
   "outputs": [
    {
     "name": "stdout",
     "output_type": "stream",
     "text": [
      "There are 897 distinct ECFP1-like substructures within ChEMBL28.\n"
     ]
    }
   ],
   "source": [
    "print(f\"There are {len(p.distinct_features())} distinct {FEATURES_NAME} within {DATASET_NAME}.\")"
   ]
  },
  {
   "cell_type": "code",
   "execution_count": 6,
   "metadata": {},
   "outputs": [
    {
     "data": {
      "text/plain": [
       "feature1    feature2  \n",
       "C=O         C=O           1424230\n",
       "Cc(c)c      Cc(c)c         717878\n",
       "c-n(c)n     c-n(c)n         55340\n",
       "c=O         c=O            222434\n",
       "cC          cC             408262\n",
       "                           ...   \n",
       "c-c(c)[o+]  c-c(c)[o+]        134\n",
       "nc(n)[nH]   nc(n)[nH]         120\n",
       "N=c(n)[nH]  N=c(n)[nH]        117\n",
       "CC(C)=c     CC(C)=c           122\n",
       "cn(C)[se]   cn(C)[se]         109\n",
       "Name: value, Length: 897, dtype: int64"
      ]
     },
     "execution_count": 6,
     "metadata": {},
     "output_type": "execute_result"
    }
   ],
   "source": [
    "self_relations_values = p.select_self_relations()['value']\n",
    "self_relations_values"
   ]
  },
  {
   "cell_type": "code",
   "execution_count": 7,
   "metadata": {},
   "outputs": [
    {
     "data": {
      "image/png": "[encoded data removed]",
      "text/plain": [
       "<Figure size 842.4x595.44 with 1 Axes>"
      ]
     },
     "metadata": {},
     "output_type": "display_data"
    }
   ],
   "source": [
    "title = f\"Stand-alone {FEATURES_NAME} occurrence in {DATASET_NAME}\"\n",
    "a4_dims = (11.7, 8.27)\n",
    "sns.set_style(\"whitegrid\")\n",
    "fig, ax = plt.subplots(figsize=a4_dims)\n",
    "sns.histplot(self_relations_values, log_scale=True, discrete=True)\n",
    "ax.set(title=title, xlabel=f\"Stand-alone occurrence count within {DATASET_NAME}\", ylabel=f\"{FEATURES_NAME}\")\n",
    "plt.savefig(f\"{OUTPUT_FIGURE_PATH}/{title}.svg\", format=\"svg\")\n",
    "#plt.close()"
   ]
  },
  {
   "cell_type": "code",
   "execution_count": 8,
   "metadata": {},
   "outputs": [
    {
     "data": {
      "text/plain": [
       "feature1    feature2       \n",
       "C=O         Cc(c)c             624876\n",
       "            c-n(c)n             37580\n",
       "            c=O                120205\n",
       "            cC                 273990\n",
       "            cC(c)=O             30748\n",
       "                                ...  \n",
       "N=c([nH])n  cc(c)Cl               141\n",
       "CCS         cN=S                  149\n",
       "cn(c)n      nc(-n)[nH]            565\n",
       "CC(N)=O     cS(F)(F)(F)(F)F       106\n",
       "CC(F)(F)F   nc(-n)[nH]            175\n",
       "Name: value, Length: 46581, dtype: int64"
      ]
     },
     "execution_count": 8,
     "metadata": {},
     "output_type": "execute_result"
    }
   ],
   "source": [
    "cooccurrence_values = p.select_raw_interrelations()['value']\n",
    "cooccurrence_values"
   ]
  },
  {
   "cell_type": "code",
   "execution_count": 9,
   "metadata": {},
   "outputs": [
    {
     "name": "stdout",
     "output_type": "stream",
     "text": [
      "There is in total 33688980 feature stand-alone occurrences and 276946302 feature co-occurrences for ECFP1-like substructures within ChEMBL28\n"
     ]
    }
   ],
   "source": [
    "print(f\"There is in total {self_relations_values.sum()} feature stand-alone occurrences and \\\n",
    "{cooccurrence_values.sum()} feature co-occurrences for {FEATURES_NAME} within {DATASET_NAME}\")"
   ]
  },
  {
   "cell_type": "code",
   "execution_count": 10,
   "metadata": {
    "scrolled": false
   },
   "outputs": [
    {
     "data": {
      "image/png": "[encoded data removed]",
      "text/plain": [
       "<Figure size 842.4x595.44 with 1 Axes>"
      ]
     },
     "metadata": {},
     "output_type": "display_data"
    }
   ],
   "source": [
    "title = f\"Co-occurrence counts of {FEATURES_NAME} in {DATASET_NAME}\"\n",
    "a4_dims = (11.7, 8.27)\n",
    "sns.set_style(\"whitegrid\")\n",
    "fig, ax = plt.subplots(figsize=a4_dims)\n",
    "sns.histplot(cooccurrence_values, log_scale=True, discrete=True)\n",
    "ax.set(title=title, xlabel=f\"Co-occurrence counts within {DATASET_NAME}\",\n",
    "       ylabel=f\"{FEATURES_NAME} co-occurrences\")\n",
    "plt.savefig(f\"{OUTPUT_FIGURE_PATH}/{title}.svg\", format=\"svg\")\n",
    "#plt.close()"
   ]
  },
  {
   "cell_type": "code",
   "execution_count": 11,
   "metadata": {},
   "outputs": [
    {
     "name": "stdout",
     "output_type": "stream",
     "text": [
      "The maximum theoretical number of different feature interrelations of the observed ECFP1-like substructures within ChEMBL28 would be 401856, whereas the number of actual observed interrelations is only 46581. Therefore, the interrelation matrix population ratio is approx. 0.1159.\n"
     ]
    }
   ],
   "source": [
    "print(f\"The maximum theoretical number of different feature interrelations of the observed {FEATURES_NAME} \\\n",
    "within {DATASET_NAME} would be {int(p.num_max_interrelations())}, whereas the number of actual observed \\\n",
    "interrelations is only {p.num_raw_interrelations()}. Therefore, the interrelation matrix population ratio is \\\n",
    "approx. {p.num_raw_interrelations() / p.num_max_interrelations():.4f}.\")"
   ]
  },
  {
   "cell_type": "code",
   "execution_count": 12,
   "metadata": {
    "pycharm": {
     "name": "#%%\n"
    }
   },
   "outputs": [
    {
     "name": "stdout",
     "output_type": "stream",
     "text": [
      "The mean co-occurrence value for ECFP1-like substructures within ChEMBL28 is 5945.48, with the standard deviation of 30064.68. The mean stand-alone value is 37557.39, with the standard deviation of 139526.54.\n"
     ]
    }
   ],
   "source": [
    "print(f\"The mean co-occurrence value for {FEATURES_NAME} within {DATASET_NAME} \\\n",
    "is {p.mean_raw_interrelation_value():.2f}, \\\n",
    "with the standard deviation of {p.standard_raw_interrelation_deviation():.2f}. \\\n",
    "The mean stand-alone value is {p.mean_self_relation_value():.2f}, \\\n",
    "with the standard deviation of {p.standard_self_relation_deviation():.2f}.\")"
   ]
  },
  {
   "cell_type": "markdown",
   "metadata": {},
   "source": [
    "## General characterization of pointwise mutual information profile"
   ]
  },
  {
   "cell_type": "code",
   "execution_count": 13,
   "metadata": {},
   "outputs": [
    {
     "data": {
      "text/plain": [
       "<fip.profiles.CooccurrenceProbabilityProfile at 0x7fb2c9ae2c10>"
      ]
     },
     "execution_count": 13,
     "metadata": {},
     "output_type": "execute_result"
    }
   ],
   "source": [
    "p = profiles.CooccurrenceProbabilityProfile.from_cooccurrence_profile(\n",
    "    p, vector_count=COOCCURRENCE_MX_VECTOR_COUNT)\n",
    "p"
   ]
  },
  {
   "cell_type": "code",
   "execution_count": 14,
   "metadata": {},
   "outputs": [
    {
     "data": {
      "text/plain": [
       "feature1    feature2  \n",
       "C=O         C=O           0.689240\n",
       "Cc(c)c      Cc(c)c        0.347409\n",
       "c-n(c)n     c-n(c)n       0.026781\n",
       "c=O         c=O           0.107644\n",
       "cC          cC            0.197574\n",
       "                            ...   \n",
       "c-c(c)[o+]  c-c(c)[o+]    0.000065\n",
       "nc(n)[nH]   nc(n)[nH]     0.000058\n",
       "N=c(n)[nH]  N=c(n)[nH]    0.000057\n",
       "CC(C)=c     CC(C)=c       0.000059\n",
       "cn(C)[se]   cn(C)[se]     0.000053\n",
       "Name: value, Length: 897, dtype: float64"
      ]
     },
     "execution_count": 14,
     "metadata": {},
     "output_type": "execute_result"
    }
   ],
   "source": [
    "p.select_self_relations()['value']"
   ]
  },
  {
   "cell_type": "code",
   "execution_count": 15,
   "metadata": {},
   "outputs": [
    {
     "data": {
      "text/plain": [
       "4.8393903142506496e-05"
      ]
     },
     "execution_count": 15,
     "metadata": {},
     "output_type": "execute_result"
    }
   ],
   "source": [
    "p.select_self_relations()['value'].min()"
   ]
  },
  {
   "cell_type": "code",
   "execution_count": 16,
   "metadata": {},
   "outputs": [
    {
     "data": {
      "text/plain": [
       "4.8393903142506496e-05"
      ]
     },
     "execution_count": 16,
     "metadata": {},
     "output_type": "execute_result"
    }
   ],
   "source": [
    "p.select_raw_interrelations()['value'].min()"
   ]
  },
  {
   "cell_type": "code",
   "execution_count": 17,
   "metadata": {},
   "outputs": [
    {
     "data": {
      "text/plain": [
       "<fip.profiles.PointwiseMutualInformationProfile at 0x7fb2c935ef50>"
      ]
     },
     "execution_count": 17,
     "metadata": {},
     "output_type": "execute_result"
    }
   ],
   "source": [
    "p = profiles.PointwiseMutualInformationProfile.from_cooccurrence_probability_profile(p)\n",
    "\n",
    "p"
   ]
  },
  {
   "cell_type": "code",
   "execution_count": 18,
   "metadata": {},
   "outputs": [
    {
     "data": {
      "text/html": [
       "<div>\n",
       "<style scoped>\n",
       "    .dataframe tbody tr th:only-of-type {\n",
       "        vertical-align: middle;\n",
       "    }\n",
       "\n",
       "    .dataframe tbody tr th {\n",
       "        vertical-align: top;\n",
       "    }\n",
       "\n",
       "    .dataframe thead th {\n",
       "        text-align: right;\n",
       "    }\n",
       "</style>\n",
       "<table border=\"1\" class=\"dataframe\">\n",
       "  <thead>\n",
       "    <tr style=\"text-align: right;\">\n",
       "      <th></th>\n",
       "      <th></th>\n",
       "      <th>value</th>\n",
       "    </tr>\n",
       "    <tr>\n",
       "      <th>feature1</th>\n",
       "      <th>feature2</th>\n",
       "      <th></th>\n",
       "    </tr>\n",
       "  </thead>\n",
       "  <tbody>\n",
       "    <tr>\n",
       "      <th rowspan=\"5\" valign=\"top\">C=O</th>\n",
       "      <th>C=O</th>\n",
       "      <td>0.000000</td>\n",
       "    </tr>\n",
       "    <tr>\n",
       "      <th>Cc(c)c</th>\n",
       "      <td>0.336752</td>\n",
       "    </tr>\n",
       "    <tr>\n",
       "      <th>c-n(c)n</th>\n",
       "      <td>-0.021437</td>\n",
       "    </tr>\n",
       "    <tr>\n",
       "      <th>c=O</th>\n",
       "      <td>-0.350960</td>\n",
       "    </tr>\n",
       "    <tr>\n",
       "      <th>cC</th>\n",
       "      <td>-0.038451</td>\n",
       "    </tr>\n",
       "    <tr>\n",
       "      <th>...</th>\n",
       "      <th>...</th>\n",
       "      <td>...</td>\n",
       "    </tr>\n",
       "    <tr>\n",
       "      <th>N=c([nH])n</th>\n",
       "      <th>cc(c)Cl</th>\n",
       "      <td>1.755450</td>\n",
       "    </tr>\n",
       "    <tr>\n",
       "      <th>CCS</th>\n",
       "      <th>cN=S</th>\n",
       "      <td>2.678707</td>\n",
       "    </tr>\n",
       "    <tr>\n",
       "      <th>cn(c)n</th>\n",
       "      <th>nc(-n)[nH]</th>\n",
       "      <td>4.683056</td>\n",
       "    </tr>\n",
       "    <tr>\n",
       "      <th>CC(N)=O</th>\n",
       "      <th>cS(F)(F)(F)(F)F</th>\n",
       "      <td>0.540092</td>\n",
       "    </tr>\n",
       "    <tr>\n",
       "      <th>CC(F)(F)F</th>\n",
       "      <th>nc(-n)[nH]</th>\n",
       "      <td>2.898813</td>\n",
       "    </tr>\n",
       "  </tbody>\n",
       "</table>\n",
       "<p>47478 rows × 1 columns</p>\n",
       "</div>"
      ],
      "text/plain": [
       "                               value\n",
       "feature1   feature2                 \n",
       "C=O        C=O              0.000000\n",
       "           Cc(c)c           0.336752\n",
       "           c-n(c)n         -0.021437\n",
       "           c=O             -0.350960\n",
       "           cC              -0.038451\n",
       "...                              ...\n",
       "N=c([nH])n cc(c)Cl          1.755450\n",
       "CCS        cN=S             2.678707\n",
       "cn(c)n     nc(-n)[nH]       4.683056\n",
       "CC(N)=O    cS(F)(F)(F)(F)F  0.540092\n",
       "CC(F)(F)F  nc(-n)[nH]       2.898813\n",
       "\n",
       "[47478 rows x 1 columns]"
      ]
     },
     "execution_count": 18,
     "metadata": {},
     "output_type": "execute_result"
    }
   ],
   "source": [
    "p.df"
   ]
  },
  {
   "cell_type": "code",
   "execution_count": 19,
   "metadata": {},
   "outputs": [
    {
     "data": {
      "text/plain": [
       "feature1    feature2       \n",
       "C=O         Cc(c)c             0.336752\n",
       "            c-n(c)n           -0.021437\n",
       "            c=O               -0.350960\n",
       "            cC                -0.038451\n",
       "            cC(c)=O            0.536921\n",
       "                                 ...   \n",
       "N=c([nH])n  cc(c)Cl            1.755450\n",
       "CCS         cN=S               2.678707\n",
       "cn(c)n      nc(-n)[nH]         4.683056\n",
       "CC(N)=O     cS(F)(F)(F)(F)F    0.540092\n",
       "CC(F)(F)F   nc(-n)[nH]         2.898813\n",
       "Name: value, Length: 46581, dtype: float64"
      ]
     },
     "execution_count": 19,
     "metadata": {},
     "output_type": "execute_result"
    }
   ],
   "source": [
    "pmi_values = p.select_raw_interrelations()['value']\n",
    "pmi_values"
   ]
  },
  {
   "cell_type": "code",
   "execution_count": 20,
   "metadata": {
    "scrolled": false
   },
   "outputs": [
    {
     "data": {
      "image/png": "[encoded data removed]",
      "text/plain": [
       "<Figure size 842.4x595.44 with 1 Axes>"
      ]
     },
     "metadata": {},
     "output_type": "display_data"
    }
   ],
   "source": [
    "title = f\"PMI value distribution for {FEATURES_NAME} in {DATASET_NAME}\"\n",
    "a4_dims = (11.7, 8.27)\n",
    "sns.set_style(\"whitegrid\")\n",
    "fig, ax = plt.subplots(figsize=a4_dims)\n",
    "sns.histplot(pmi_values, binwidth=0.25)\n",
    "ax.set(title=title, xlabel=f\"PMI value bins within {DATASET_NAME}\", ylabel=f\"{FEATURES_NAME} counts\")\n",
    "plt.savefig(f\"{OUTPUT_FIGURE_PATH}/{title}.svg\", format=\"svg\")\n",
    "#plt.close()"
   ]
  },
  {
   "cell_type": "code",
   "execution_count": 21,
   "metadata": {},
   "outputs": [
    {
     "name": "stdout",
     "output_type": "stream",
     "text": [
      "The mean PMI value for ECFP1-like substructures within ChEMBL28 is 0.25, with the standard deviation of 1.70. The mean stand-alone value is 0.00, with the standard deviation of 0.00.\n"
     ]
    }
   ],
   "source": [
    "print(f\"The mean PMI value for {FEATURES_NAME} within {DATASET_NAME} \\\n",
    "is {p.mean_raw_interrelation_value():.2f}, \\\n",
    "with the standard deviation of {p.standard_raw_interrelation_deviation():.2f}. \\\n",
    "The mean stand-alone value is {p.mean_self_relation_value():.2f}, \\\n",
    "with the standard deviation of {p.standard_self_relation_deviation():.2f}.\")"
   ]
  },
  {
   "cell_type": "raw",
   "metadata": {},
   "source": [
    "# for PMI, this requires iteration through the whole profile, takes a very long time.\n",
    "a4_dims = (11.7, 8.27)\n",
    "sns.set_style(\"whitegrid\")\n",
    "fig, ax = plt.subplots(figsize=a4_dims)\n",
    "sns.histplot([value for f1, f2, value in p.iterate_feature_interrelations()], binwidth=0.5)\n",
    "ax.set(title=f\"Full PMI value distribution for {FEATURES_NAME} in {DATASET_NAME}, with imputation.\",\n",
    "        xlabel=f\"PMI value bins within {DATASET_NAME}\", ylabel=f\"{FEATURES_NAME} counts\")"
   ]
  },
  {
   "cell_type": "code",
   "execution_count": 22,
   "metadata": {
    "scrolled": true
   },
   "outputs": [
    {
     "data": {
      "text/plain": [
       "feature1     feature2  \n",
       "c-n(c)n      cc(c)-n       4.251786\n",
       "cc([nH])=O   nc([nH])=O    5.251617\n",
       "C#N          cC#N          4.446057\n",
       "cBr          cc(c)Br       4.726801\n",
       "cC[n+]       c[n+](c)C     6.626132\n",
       "                             ...   \n",
       "c-c(c)o      nc(O)s        4.046249\n",
       "CS(C)(=N)=O  cNc           4.148195\n",
       "cN=S         cNc           4.374894\n",
       "             ncn           3.816252\n",
       "cn(c)n       nc(-n)[nH]    4.683056\n",
       "Name: value, Length: 2089, dtype: float64"
      ]
     },
     "execution_count": 22,
     "metadata": {},
     "output_type": "execute_result"
    }
   ],
   "source": [
    "major_pmi_values = p.select_major_interrelations(2)['value']\n",
    "major_pmi_values"
   ]
  },
  {
   "cell_type": "code",
   "execution_count": 23,
   "metadata": {},
   "outputs": [
    {
     "data": {
      "image/png": "[encoded data removed]",
      "text/plain": [
       "<Figure size 842.4x595.44 with 1 Axes>"
      ]
     },
     "metadata": {},
     "output_type": "display_data"
    }
   ],
   "source": [
    "title = f\"Major PMI value distribution for {FEATURES_NAME} in {DATASET_NAME}\"\n",
    "a4_dims = (11.7, 8.27)\n",
    "sns.set_style(\"whitegrid\")\n",
    "fig, ax = plt.subplots(figsize=a4_dims)\n",
    "sns.histplot(major_pmi_values, binwidth=0.5)\n",
    "ax.set(title=title, xlabel=f\"PMI value bins within {DATASET_NAME}\", ylabel=f\"{FEATURES_NAME} counts\")\n",
    "plt.savefig(f\"{OUTPUT_FIGURE_PATH}/{title}.svg\", format=\"svg\")\n",
    "#plt.close()"
   ]
  },
  {
   "cell_type": "code",
   "execution_count": 24,
   "metadata": {},
   "outputs": [
    {
     "data": {
      "text/plain": [
       "0.2533206760082737"
      ]
     },
     "execution_count": 24,
     "metadata": {},
     "output_type": "execute_result"
    }
   ],
   "source": [
    "p.mean_raw_interrelation_value()"
   ]
  },
  {
   "cell_type": "markdown",
   "metadata": {},
   "source": [
    "## Graph visualization of PMI profile"
   ]
  },
  {
   "cell_type": "code",
   "execution_count": 25,
   "metadata": {},
   "outputs": [
    {
     "data": {
      "text/plain": [
       "<networkx.classes.graph.Graph at 0x7fb2c9c83590>"
      ]
     },
     "execution_count": 25,
     "metadata": {},
     "output_type": "execute_result"
    }
   ],
   "source": [
    "graph = nx.Graph()\n",
    "major_pmi_values = p.select_major_interrelations(2)\n",
    "\n",
    "for feature_pair, value in major_pmi_values[major_pmi_values['value'] > 0].iterrows():\n",
    "    graph.add_edge(feature_pair[0], feature_pair[1], weight=float(value))\n",
    "graph"
   ]
  },
  {
   "cell_type": "code",
   "execution_count": 26,
   "metadata": {},
   "outputs": [],
   "source": [
    "title = f\"Kamada-Kawai graph visualization of major PMI interrelations for {FEATURES_NAME} in {DATASET_NAME}\"\n",
    "dims = (40, 40)\n",
    "fig, ax = plt.subplots(figsize=dims)\n",
    "nx.draw_kamada_kawai(graph, ax=ax, alpha=0.5, node_size=30, label=title)\n",
    "plt.savefig(f\"{OUTPUT_FIGURE_PATH}/{title}.svg\", format=\"svg\")\n",
    "plt.close()"
   ]
  },
  {
   "cell_type": "code",
   "execution_count": 27,
   "metadata": {},
   "outputs": [],
   "source": [
    "title = f\"Circular graph visualization of major PMI interrelations for {FEATURES_NAME} in {DATASET_NAME}\"\n",
    "dims = (40, 40)\n",
    "fig, ax = plt.subplots(figsize=dims)\n",
    "nx.draw_circular(graph, ax=ax, alpha=0.2, node_size=30)\n",
    "plt.savefig(f\"{OUTPUT_FIGURE_PATH}/{title}.svg\", format=\"svg\")\n",
    "plt.close()"
   ]
  },
  {
   "cell_type": "code",
   "execution_count": 28,
   "metadata": {},
   "outputs": [],
   "source": [
    "title = f\"A generic graph visualization of major PMI interrelations for {FEATURES_NAME} in {DATASET_NAME}\"\n",
    "dims = (40, 40)\n",
    "fig, ax = plt.subplots(figsize=dims)\n",
    "nx.draw_networkx(graph, ax=ax, alpha=0.1, node_size=30)\n",
    "plt.savefig(f\"{OUTPUT_FIGURE_PATH}/{title}.svg\", format=\"svg\")\n",
    "plt.close()"
   ]
  },
  {
   "cell_type": "markdown",
   "metadata": {},
   "source": [
    "## General characterization of a hybrid co-occurrence profile"
   ]
  },
  {
   "cell_type": "code",
   "execution_count": 29,
   "metadata": {},
   "outputs": [
    {
     "data": {
      "text/plain": [
       "<fip.profiles.CooccurrenceProfile at 0x7fb2c8c5c690>"
      ]
     },
     "execution_count": 29,
     "metadata": {},
     "output_type": "execute_result"
    }
   ],
   "source": [
    "q = profiles.CooccurrenceProfile.from_dataframe(\n",
    "    pd.read_csv(HYBRID_COOCCURRENCE_MX_LINK), min_cutoff_value=MINIMAL_COOCCURRENCE_CUTOFF)\n",
    "q"
   ]
  },
  {
   "cell_type": "code",
   "execution_count": 30,
   "metadata": {},
   "outputs": [
    {
     "data": {
      "text/html": [
       "<div>\n",
       "<style scoped>\n",
       "    .dataframe tbody tr th:only-of-type {\n",
       "        vertical-align: middle;\n",
       "    }\n",
       "\n",
       "    .dataframe tbody tr th {\n",
       "        vertical-align: top;\n",
       "    }\n",
       "\n",
       "    .dataframe thead th {\n",
       "        text-align: right;\n",
       "    }\n",
       "</style>\n",
       "<table border=\"1\" class=\"dataframe\">\n",
       "  <thead>\n",
       "    <tr style=\"text-align: right;\">\n",
       "      <th></th>\n",
       "      <th></th>\n",
       "      <th>value</th>\n",
       "    </tr>\n",
       "    <tr>\n",
       "      <th>feature1</th>\n",
       "      <th>feature2</th>\n",
       "      <th></th>\n",
       "    </tr>\n",
       "  </thead>\n",
       "  <tbody>\n",
       "    <tr>\n",
       "      <th rowspan=\"5\" valign=\"top\">C=O</th>\n",
       "      <th>C=O</th>\n",
       "      <td>1417382</td>\n",
       "    </tr>\n",
       "    <tr>\n",
       "      <th>Cc(c)c</th>\n",
       "      <td>621764</td>\n",
       "    </tr>\n",
       "    <tr>\n",
       "      <th>c-n(c)n</th>\n",
       "      <td>37498</td>\n",
       "    </tr>\n",
       "    <tr>\n",
       "      <th>c=O</th>\n",
       "      <td>119809</td>\n",
       "    </tr>\n",
       "    <tr>\n",
       "      <th>cC</th>\n",
       "      <td>272969</td>\n",
       "    </tr>\n",
       "    <tr>\n",
       "      <th>...</th>\n",
       "      <th>...</th>\n",
       "      <td>...</td>\n",
       "    </tr>\n",
       "    <tr>\n",
       "      <th>Ubiquitin carboxyl-terminal hydrolase 25</th>\n",
       "      <th>cc(c)c</th>\n",
       "      <td>103</td>\n",
       "    </tr>\n",
       "    <tr>\n",
       "      <th>CC</th>\n",
       "      <th>Histone-lysine N-methyltransferase SUV39H2</th>\n",
       "      <td>107</td>\n",
       "    </tr>\n",
       "    <tr>\n",
       "      <th>Ubiquitin carboxyl-terminal hydrolase 28</th>\n",
       "      <th>cc(c)c</th>\n",
       "      <td>107</td>\n",
       "    </tr>\n",
       "    <tr>\n",
       "      <th rowspan=\"2\" valign=\"top\">Sepiapterin reductase</th>\n",
       "      <th>ccs</th>\n",
       "      <td>117</td>\n",
       "    </tr>\n",
       "    <tr>\n",
       "      <th>csc</th>\n",
       "      <td>157</td>\n",
       "    </tr>\n",
       "  </tbody>\n",
       "</table>\n",
       "<p>82528 rows × 1 columns</p>\n",
       "</div>"
      ],
      "text/plain": [
       "                                                                                       value\n",
       "feature1                                 feature2                                           \n",
       "C=O                                      C=O                                         1417382\n",
       "                                         Cc(c)c                                       621764\n",
       "                                         c-n(c)n                                       37498\n",
       "                                         c=O                                          119809\n",
       "                                         cC                                           272969\n",
       "...                                                                                      ...\n",
       "Ubiquitin carboxyl-terminal hydrolase 25 cc(c)c                                          103\n",
       "CC                                       Histone-lysine N-methyltransferase SUV39H2      107\n",
       "Ubiquitin carboxyl-terminal hydrolase 28 cc(c)c                                          107\n",
       "Sepiapterin reductase                    ccs                                             117\n",
       "                                         csc                                             157\n",
       "\n",
       "[82528 rows x 1 columns]"
      ]
     },
     "execution_count": 30,
     "metadata": {},
     "output_type": "execute_result"
    }
   ],
   "source": [
    "q.df"
   ]
  },
  {
   "cell_type": "code",
   "execution_count": 31,
   "metadata": {
    "scrolled": false
   },
   "outputs": [
    {
     "data": {
      "text/plain": [
       "5507"
      ]
     },
     "execution_count": 31,
     "metadata": {},
     "output_type": "execute_result"
    }
   ],
   "source": [
    "target_set = set()\n",
    "with open(DATASET_LINK, 'r') as dataset:\n",
    "    reader = csv.DictReader(dataset)\n",
    "    for row in reader:\n",
    "        activities = row['chembl_activities'].split(\" | \")\n",
    "        for activity in activities:\n",
    "            activity = activity.strip()\n",
    "            if activity:\n",
    "                target_set.add(activity)\n",
    "len(target_set)"
   ]
  },
  {
   "cell_type": "code",
   "execution_count": 32,
   "metadata": {},
   "outputs": [
    {
     "data": {
      "text/html": [
       "<div>\n",
       "<style scoped>\n",
       "    .dataframe tbody tr th:only-of-type {\n",
       "        vertical-align: middle;\n",
       "    }\n",
       "\n",
       "    .dataframe tbody tr th {\n",
       "        vertical-align: top;\n",
       "    }\n",
       "\n",
       "    .dataframe thead th {\n",
       "        text-align: right;\n",
       "    }\n",
       "</style>\n",
       "<table border=\"1\" class=\"dataframe\">\n",
       "  <thead>\n",
       "    <tr style=\"text-align: right;\">\n",
       "      <th></th>\n",
       "      <th></th>\n",
       "      <th>value</th>\n",
       "      <th>type</th>\n",
       "    </tr>\n",
       "    <tr>\n",
       "      <th>feature1</th>\n",
       "      <th>feature2</th>\n",
       "      <th></th>\n",
       "      <th></th>\n",
       "    </tr>\n",
       "  </thead>\n",
       "  <tbody>\n",
       "    <tr>\n",
       "      <th rowspan=\"5\" valign=\"top\">C=O</th>\n",
       "      <th>C=O</th>\n",
       "      <td>1417382</td>\n",
       "      <td>feature-feature</td>\n",
       "    </tr>\n",
       "    <tr>\n",
       "      <th>Cc(c)c</th>\n",
       "      <td>621764</td>\n",
       "      <td>feature-feature</td>\n",
       "    </tr>\n",
       "    <tr>\n",
       "      <th>c-n(c)n</th>\n",
       "      <td>37498</td>\n",
       "      <td>feature-feature</td>\n",
       "    </tr>\n",
       "    <tr>\n",
       "      <th>c=O</th>\n",
       "      <td>119809</td>\n",
       "      <td>feature-feature</td>\n",
       "    </tr>\n",
       "    <tr>\n",
       "      <th>cC</th>\n",
       "      <td>272969</td>\n",
       "      <td>feature-feature</td>\n",
       "    </tr>\n",
       "    <tr>\n",
       "      <th>...</th>\n",
       "      <th>...</th>\n",
       "      <td>...</td>\n",
       "      <td>...</td>\n",
       "    </tr>\n",
       "    <tr>\n",
       "      <th>Ubiquitin carboxyl-terminal hydrolase 25</th>\n",
       "      <th>cc(c)c</th>\n",
       "      <td>103</td>\n",
       "      <td>feature-activity</td>\n",
       "    </tr>\n",
       "    <tr>\n",
       "      <th>CC</th>\n",
       "      <th>Histone-lysine N-methyltransferase SUV39H2</th>\n",
       "      <td>107</td>\n",
       "      <td>feature-activity</td>\n",
       "    </tr>\n",
       "    <tr>\n",
       "      <th>Ubiquitin carboxyl-terminal hydrolase 28</th>\n",
       "      <th>cc(c)c</th>\n",
       "      <td>107</td>\n",
       "      <td>feature-activity</td>\n",
       "    </tr>\n",
       "    <tr>\n",
       "      <th rowspan=\"2\" valign=\"top\">Sepiapterin reductase</th>\n",
       "      <th>ccs</th>\n",
       "      <td>117</td>\n",
       "      <td>feature-activity</td>\n",
       "    </tr>\n",
       "    <tr>\n",
       "      <th>csc</th>\n",
       "      <td>157</td>\n",
       "      <td>feature-activity</td>\n",
       "    </tr>\n",
       "  </tbody>\n",
       "</table>\n",
       "<p>82528 rows × 2 columns</p>\n",
       "</div>"
      ],
      "text/plain": [
       "                                                                                       value  \\\n",
       "feature1                                 feature2                                              \n",
       "C=O                                      C=O                                         1417382   \n",
       "                                         Cc(c)c                                       621764   \n",
       "                                         c-n(c)n                                       37498   \n",
       "                                         c=O                                          119809   \n",
       "                                         cC                                           272969   \n",
       "...                                                                                      ...   \n",
       "Ubiquitin carboxyl-terminal hydrolase 25 cc(c)c                                          103   \n",
       "CC                                       Histone-lysine N-methyltransferase SUV39H2      107   \n",
       "Ubiquitin carboxyl-terminal hydrolase 28 cc(c)c                                          107   \n",
       "Sepiapterin reductase                    ccs                                             117   \n",
       "                                         csc                                             157   \n",
       "\n",
       "                                                                                                 type  \n",
       "feature1                                 feature2                                                      \n",
       "C=O                                      C=O                                          feature-feature  \n",
       "                                         Cc(c)c                                       feature-feature  \n",
       "                                         c-n(c)n                                      feature-feature  \n",
       "                                         c=O                                          feature-feature  \n",
       "                                         cC                                           feature-feature  \n",
       "...                                                                                               ...  \n",
       "Ubiquitin carboxyl-terminal hydrolase 25 cc(c)c                                      feature-activity  \n",
       "CC                                       Histone-lysine N-methyltransferase SUV39H2  feature-activity  \n",
       "Ubiquitin carboxyl-terminal hydrolase 28 cc(c)c                                      feature-activity  \n",
       "Sepiapterin reductase                    ccs                                         feature-activity  \n",
       "                                         csc                                         feature-activity  \n",
       "\n",
       "[82528 rows x 2 columns]"
      ]
     },
     "execution_count": 32,
     "metadata": {},
     "output_type": "execute_result"
    }
   ],
   "source": [
    "interrelation_type = ['feature-feature', 'feature-activity', 'activity-activity']\n",
    "q.df['type'] = [interrelation_type[sum((x in target_set, y in target_set))]\n",
    "                                   for x, y in zip(q.df.index.get_level_values(0),\n",
    "                                                   q.df.index.get_level_values(1))]\n",
    "q.df"
   ]
  },
  {
   "cell_type": "code",
   "execution_count": 33,
   "metadata": {},
   "outputs": [
    {
     "data": {
      "text/html": [
       "<div>\n",
       "<style scoped>\n",
       "    .dataframe tbody tr th:only-of-type {\n",
       "        vertical-align: middle;\n",
       "    }\n",
       "\n",
       "    .dataframe tbody tr th {\n",
       "        vertical-align: top;\n",
       "    }\n",
       "\n",
       "    .dataframe thead th {\n",
       "        text-align: right;\n",
       "    }\n",
       "</style>\n",
       "<table border=\"1\" class=\"dataframe\">\n",
       "  <thead>\n",
       "    <tr style=\"text-align: right;\">\n",
       "      <th></th>\n",
       "      <th></th>\n",
       "      <th>value</th>\n",
       "      <th>type</th>\n",
       "    </tr>\n",
       "    <tr>\n",
       "      <th>feature1</th>\n",
       "      <th>feature2</th>\n",
       "      <th></th>\n",
       "      <th></th>\n",
       "    </tr>\n",
       "  </thead>\n",
       "  <tbody>\n",
       "    <tr>\n",
       "      <th>Aldehyde dehydrogenase 1A1</th>\n",
       "      <th>Aldehyde dehydrogenase 1A1</th>\n",
       "      <td>2113</td>\n",
       "      <td>activity-activity</td>\n",
       "    </tr>\n",
       "    <tr>\n",
       "      <th>Anandamide amidohydrolase</th>\n",
       "      <th>Anandamide amidohydrolase</th>\n",
       "      <td>2103</td>\n",
       "      <td>activity-activity</td>\n",
       "    </tr>\n",
       "    <tr>\n",
       "      <th>Bloom syndrome protein</th>\n",
       "      <th>Bloom syndrome protein</th>\n",
       "      <td>328</td>\n",
       "      <td>activity-activity</td>\n",
       "    </tr>\n",
       "    <tr>\n",
       "      <th>Adrenergic receptor alpha-1</th>\n",
       "      <th>Adrenergic receptor alpha-1</th>\n",
       "      <td>2792</td>\n",
       "      <td>activity-activity</td>\n",
       "    </tr>\n",
       "    <tr>\n",
       "      <th>Rattus norvegicus</th>\n",
       "      <th>Rattus norvegicus</th>\n",
       "      <td>2923</td>\n",
       "      <td>activity-activity</td>\n",
       "    </tr>\n",
       "    <tr>\n",
       "      <th>...</th>\n",
       "      <th>...</th>\n",
       "      <td>...</td>\n",
       "      <td>...</td>\n",
       "    </tr>\n",
       "    <tr>\n",
       "      <th>Ubiquitin carboxyl-terminal hydrolase 30</th>\n",
       "      <th>Ubiquitin carboxyl-terminal hydrolase 30</th>\n",
       "      <td>436</td>\n",
       "      <td>activity-activity</td>\n",
       "    </tr>\n",
       "    <tr>\n",
       "      <th>Phosphatidylcholine-sterol acyltransferase</th>\n",
       "      <th>Phosphatidylcholine-sterol acyltransferase</th>\n",
       "      <td>134</td>\n",
       "      <td>activity-activity</td>\n",
       "    </tr>\n",
       "    <tr>\n",
       "      <th>Serine protease HTRA1</th>\n",
       "      <th>Serine protease HTRA1</th>\n",
       "      <td>184</td>\n",
       "      <td>activity-activity</td>\n",
       "    </tr>\n",
       "    <tr>\n",
       "      <th>Amylin receptor AMY3; CALCR/RAMP3</th>\n",
       "      <th>Amylin receptor AMY3; CALCR/RAMP3</th>\n",
       "      <td>141</td>\n",
       "      <td>activity-activity</td>\n",
       "    </tr>\n",
       "    <tr>\n",
       "      <th>Histone-lysine N-methyltransferase SUV39H2</th>\n",
       "      <th>Histone-lysine N-methyltransferase SUV39H2</th>\n",
       "      <td>460</td>\n",
       "      <td>activity-activity</td>\n",
       "    </tr>\n",
       "  </tbody>\n",
       "</table>\n",
       "<p>1117 rows × 2 columns</p>\n",
       "</div>"
      ],
      "text/plain": [
       "                                                                                       value  \\\n",
       "feature1                                   feature2                                            \n",
       "Aldehyde dehydrogenase 1A1                 Aldehyde dehydrogenase 1A1                   2113   \n",
       "Anandamide amidohydrolase                  Anandamide amidohydrolase                    2103   \n",
       "Bloom syndrome protein                     Bloom syndrome protein                        328   \n",
       "Adrenergic receptor alpha-1                Adrenergic receptor alpha-1                  2792   \n",
       "Rattus norvegicus                          Rattus norvegicus                            2923   \n",
       "...                                                                                      ...   \n",
       "Ubiquitin carboxyl-terminal hydrolase 30   Ubiquitin carboxyl-terminal hydrolase 30      436   \n",
       "Phosphatidylcholine-sterol acyltransferase Phosphatidylcholine-sterol acyltransferase    134   \n",
       "Serine protease HTRA1                      Serine protease HTRA1                         184   \n",
       "Amylin receptor AMY3; CALCR/RAMP3          Amylin receptor AMY3; CALCR/RAMP3             141   \n",
       "Histone-lysine N-methyltransferase SUV39H2 Histone-lysine N-methyltransferase SUV39H2    460   \n",
       "\n",
       "                                                                                                    type  \n",
       "feature1                                   feature2                                                       \n",
       "Aldehyde dehydrogenase 1A1                 Aldehyde dehydrogenase 1A1                  activity-activity  \n",
       "Anandamide amidohydrolase                  Anandamide amidohydrolase                   activity-activity  \n",
       "Bloom syndrome protein                     Bloom syndrome protein                      activity-activity  \n",
       "Adrenergic receptor alpha-1                Adrenergic receptor alpha-1                 activity-activity  \n",
       "Rattus norvegicus                          Rattus norvegicus                           activity-activity  \n",
       "...                                                                                                  ...  \n",
       "Ubiquitin carboxyl-terminal hydrolase 30   Ubiquitin carboxyl-terminal hydrolase 30    activity-activity  \n",
       "Phosphatidylcholine-sterol acyltransferase Phosphatidylcholine-sterol acyltransferase  activity-activity  \n",
       "Serine protease HTRA1                      Serine protease HTRA1                       activity-activity  \n",
       "Amylin receptor AMY3; CALCR/RAMP3          Amylin receptor AMY3; CALCR/RAMP3           activity-activity  \n",
       "Histone-lysine N-methyltransferase SUV39H2 Histone-lysine N-methyltransferase SUV39H2  activity-activity  \n",
       "\n",
       "[1117 rows x 2 columns]"
      ]
     },
     "execution_count": 33,
     "metadata": {},
     "output_type": "execute_result"
    }
   ],
   "source": [
    "q.select_self_relations().loc[q.df.type=='activity-activity']"
   ]
  },
  {
   "cell_type": "code",
   "execution_count": 34,
   "metadata": {},
   "outputs": [
    {
     "name": "stdout",
     "output_type": "stream",
     "text": [
      "There are 2078 distinct ECFP1-like substructures and ChEMBL activities within ChEMBL28, of which there are 1117 ChEMBL activities.\n"
     ]
    }
   ],
   "source": [
    "print(f\"There are {len(q.distinct_features())} distinct {HYBRID_FEATURES_NAME} within {DATASET_NAME}, \\\n",
    "of which there are {len(q.select_self_relations().loc[q.df.type=='activity-activity'])} ChEMBL activities.\")"
   ]
  },
  {
   "cell_type": "code",
   "execution_count": 35,
   "metadata": {},
   "outputs": [
    {
     "data": {
      "text/plain": [
       "feature1                                    feature2                                  \n",
       "C=O                                         C=O                                           1417382\n",
       "Cc(c)c                                      Cc(c)c                                         714416\n",
       "c-n(c)n                                     c-n(c)n                                         55160\n",
       "c=O                                         c=O                                            221633\n",
       "cC                                          cC                                             406260\n",
       "                                                                                           ...   \n",
       "Phosphatidylcholine-sterol acyltransferase  Phosphatidylcholine-sterol acyltransferase        134\n",
       "Serine protease HTRA1                       Serine protease HTRA1                             184\n",
       "Amylin receptor AMY3; CALCR/RAMP3           Amylin receptor AMY3; CALCR/RAMP3                 141\n",
       "\"Acetyl-coenzyme A synthetase               \"Acetyl-coenzyme A synthetase                     221\n",
       "Histone-lysine N-methyltransferase SUV39H2  Histone-lysine N-methyltransferase SUV39H2        460\n",
       "Name: value, Length: 2078, dtype: int64"
      ]
     },
     "execution_count": 35,
     "metadata": {},
     "output_type": "execute_result"
    }
   ],
   "source": [
    "hybrid_self_relations_values = q.select_self_relations()['value']\n",
    "hybrid_self_relations_values"
   ]
  },
  {
   "cell_type": "code",
   "execution_count": 36,
   "metadata": {},
   "outputs": [
    {
     "data": {
      "image/png": "[encoded data removed]",
      "text/plain": [
       "<Figure size 842.4x595.44 with 1 Axes>"
      ]
     },
     "metadata": {},
     "output_type": "display_data"
    }
   ],
   "source": [
    "title = f\"Stand-alone {HYBRID_FEATURES_NAME} occurrence in {DATASET_NAME}\"\n",
    "a4_dims = (11.7, 8.27)\n",
    "sns.set_style(\"whitegrid\")\n",
    "fig, ax = plt.subplots(figsize=a4_dims)\n",
    "sns.histplot(q.select_self_relations(), log_scale=True, discrete=True, \n",
    "             x=\"value\", hue=\"type\", multiple=\"stack\")\n",
    "ax.set(title=title, xlabel=f\"Stand-alone occurrence count within {DATASET_NAME}\",\n",
    "       ylabel=f\"{HYBRID_FEATURES_NAME}\")\n",
    "plt.savefig(f\"{OUTPUT_FIGURE_PATH}/{title}.svg\", format=\"svg\")\n",
    "#plt.close()"
   ]
  },
  {
   "cell_type": "code",
   "execution_count": 37,
   "metadata": {},
   "outputs": [
    {
     "data": {
      "text/plain": [
       "feature1                                  feature2                                  \n",
       "C=O                                       Cc(c)c                                        621764\n",
       "                                          c-n(c)n                                        37498\n",
       "                                          c=O                                           119809\n",
       "                                          cC                                            272969\n",
       "                                          cC(c)=O                                        30629\n",
       "                                                                                         ...  \n",
       "Ubiquitin carboxyl-terminal hydrolase 25  cc(c)c                                           103\n",
       "CC                                        Histone-lysine N-methyltransferase SUV39H2       107\n",
       "Ubiquitin carboxyl-terminal hydrolase 28  cc(c)c                                           107\n",
       "Sepiapterin reductase                     ccs                                              117\n",
       "                                          csc                                              157\n",
       "Name: value, Length: 80450, dtype: int64"
      ]
     },
     "execution_count": 37,
     "metadata": {},
     "output_type": "execute_result"
    }
   ],
   "source": [
    "hybrid_cooccurrence_values = q.select_raw_interrelations()['value']\n",
    "hybrid_cooccurrence_values"
   ]
  },
  {
   "cell_type": "code",
   "execution_count": 38,
   "metadata": {},
   "outputs": [
    {
     "name": "stdout",
     "output_type": "stream",
     "text": [
      "There is in total 33688980 feature stand-alone occurrences and 290450895 feature co-occurrences for ECFP1-like substructures and ChEMBL activities within ChEMBL28\n"
     ]
    }
   ],
   "source": [
    "print(f\"There is in total {self_relations_values.sum()} feature stand-alone occurrences and \\\n",
    "{hybrid_cooccurrence_values.sum()} feature co-occurrences for {HYBRID_FEATURES_NAME} within {DATASET_NAME}\")"
   ]
  },
  {
   "cell_type": "code",
   "execution_count": 39,
   "metadata": {},
   "outputs": [
    {
     "data": {
      "image/png": "[encoded data removed]",
      "text/plain": [
       "<Figure size 842.4x595.44 with 1 Axes>"
      ]
     },
     "metadata": {},
     "output_type": "display_data"
    }
   ],
   "source": [
    "title = f\"Co-occurrence counts of {HYBRID_FEATURES_NAME} in {DATASET_NAME}\"\n",
    "a4_dims = (11.7, 8.27)\n",
    "sns.set_style(\"whitegrid\")\n",
    "fig, ax = plt.subplots(figsize=a4_dims)\n",
    "sns.histplot(q.select_raw_interrelations(), log_scale=True, discrete=True,\n",
    "             x=\"value\", hue=\"type\", multiple=\"stack\")\n",
    "ax.set(title=title, xlabel=f\"Co-occurrence counts within {DATASET_NAME}\",\n",
    "       ylabel=f\"{HYBRID_FEATURES_NAME} co-occurrences\")\n",
    "plt.savefig(f\"{OUTPUT_FIGURE_PATH}/{title}.svg\", format=\"svg\")\n",
    "#plt.close()"
   ]
  },
  {
   "cell_type": "code",
   "execution_count": 40,
   "metadata": {},
   "outputs": [],
   "source": [
    "q = profiles.CooccurrenceProbabilityProfile.from_cooccurrence_profile(\n",
    "    q, vector_count=HYBRID_COOCCURRENCE_MX_VECTOR_COUNT)\n",
    "q = profiles.PointwiseMutualInformationProfile.from_cooccurrence_probability_profile(q)"
   ]
  },
  {
   "cell_type": "code",
   "execution_count": 41,
   "metadata": {},
   "outputs": [
    {
     "data": {
      "text/html": [
       "<div>\n",
       "<style scoped>\n",
       "    .dataframe tbody tr th:only-of-type {\n",
       "        vertical-align: middle;\n",
       "    }\n",
       "\n",
       "    .dataframe tbody tr th {\n",
       "        vertical-align: top;\n",
       "    }\n",
       "\n",
       "    .dataframe thead th {\n",
       "        text-align: right;\n",
       "    }\n",
       "</style>\n",
       "<table border=\"1\" class=\"dataframe\">\n",
       "  <thead>\n",
       "    <tr style=\"text-align: right;\">\n",
       "      <th></th>\n",
       "      <th></th>\n",
       "      <th>value</th>\n",
       "      <th>type</th>\n",
       "    </tr>\n",
       "    <tr>\n",
       "      <th>feature1</th>\n",
       "      <th>feature2</th>\n",
       "      <th></th>\n",
       "      <th></th>\n",
       "    </tr>\n",
       "  </thead>\n",
       "  <tbody>\n",
       "    <tr>\n",
       "      <th rowspan=\"5\" valign=\"top\">C=O</th>\n",
       "      <th>C=O</th>\n",
       "      <td>0.000000</td>\n",
       "      <td></td>\n",
       "    </tr>\n",
       "    <tr>\n",
       "      <th>Cc(c)c</th>\n",
       "      <td>0.343477</td>\n",
       "      <td>0.343477</td>\n",
       "    </tr>\n",
       "    <tr>\n",
       "      <th>c-n(c)n</th>\n",
       "      <td>-0.012935</td>\n",
       "      <td>-0.012935</td>\n",
       "    </tr>\n",
       "    <tr>\n",
       "      <th>c=O</th>\n",
       "      <td>-0.343562</td>\n",
       "      <td>-0.343562</td>\n",
       "    </tr>\n",
       "    <tr>\n",
       "      <th>cC</th>\n",
       "      <td>-0.029792</td>\n",
       "      <td>-0.029792</td>\n",
       "    </tr>\n",
       "    <tr>\n",
       "      <th>...</th>\n",
       "      <th>...</th>\n",
       "      <td>...</td>\n",
       "      <td>...</td>\n",
       "    </tr>\n",
       "    <tr>\n",
       "      <th>Ubiquitin carboxyl-terminal hydrolase 25</th>\n",
       "      <th>cc(c)c</th>\n",
       "      <td>2.015672</td>\n",
       "      <td>2.015672</td>\n",
       "    </tr>\n",
       "    <tr>\n",
       "      <th>CC</th>\n",
       "      <th>Histone-lysine N-methyltransferase SUV39H2</th>\n",
       "      <td>-0.849671</td>\n",
       "      <td>-0.849671</td>\n",
       "    </tr>\n",
       "    <tr>\n",
       "      <th>Ubiquitin carboxyl-terminal hydrolase 28</th>\n",
       "      <th>cc(c)c</th>\n",
       "      <td>1.995351</td>\n",
       "      <td>1.995351</td>\n",
       "    </tr>\n",
       "    <tr>\n",
       "      <th rowspan=\"2\" valign=\"top\">Sepiapterin reductase</th>\n",
       "      <th>ccs</th>\n",
       "      <td>1.394693</td>\n",
       "      <td>1.394693</td>\n",
       "    </tr>\n",
       "    <tr>\n",
       "      <th>csc</th>\n",
       "      <td>0.693224</td>\n",
       "      <td>0.693224</td>\n",
       "    </tr>\n",
       "  </tbody>\n",
       "</table>\n",
       "<p>82528 rows × 2 columns</p>\n",
       "</div>"
      ],
      "text/plain": [
       "                                                                                        value  \\\n",
       "feature1                                 feature2                                               \n",
       "C=O                                      C=O                                         0.000000   \n",
       "                                         Cc(c)c                                      0.343477   \n",
       "                                         c-n(c)n                                    -0.012935   \n",
       "                                         c=O                                        -0.343562   \n",
       "                                         cC                                         -0.029792   \n",
       "...                                                                                       ...   \n",
       "Ubiquitin carboxyl-terminal hydrolase 25 cc(c)c                                      2.015672   \n",
       "CC                                       Histone-lysine N-methyltransferase SUV39H2 -0.849671   \n",
       "Ubiquitin carboxyl-terminal hydrolase 28 cc(c)c                                      1.995351   \n",
       "Sepiapterin reductase                    ccs                                         1.394693   \n",
       "                                         csc                                         0.693224   \n",
       "\n",
       "                                                                                         type  \n",
       "feature1                                 feature2                                              \n",
       "C=O                                      C=O                                                   \n",
       "                                         Cc(c)c                                      0.343477  \n",
       "                                         c-n(c)n                                    -0.012935  \n",
       "                                         c=O                                        -0.343562  \n",
       "                                         cC                                         -0.029792  \n",
       "...                                                                                       ...  \n",
       "Ubiquitin carboxyl-terminal hydrolase 25 cc(c)c                                      2.015672  \n",
       "CC                                       Histone-lysine N-methyltransferase SUV39H2 -0.849671  \n",
       "Ubiquitin carboxyl-terminal hydrolase 28 cc(c)c                                      1.995351  \n",
       "Sepiapterin reductase                    ccs                                         1.394693  \n",
       "                                         csc                                         0.693224  \n",
       "\n",
       "[82528 rows x 2 columns]"
      ]
     },
     "execution_count": 41,
     "metadata": {},
     "output_type": "execute_result"
    }
   ],
   "source": [
    "q.df"
   ]
  },
  {
   "cell_type": "code",
   "execution_count": 42,
   "metadata": {},
   "outputs": [
    {
     "data": {
      "text/html": [
       "<div>\n",
       "<style scoped>\n",
       "    .dataframe tbody tr th:only-of-type {\n",
       "        vertical-align: middle;\n",
       "    }\n",
       "\n",
       "    .dataframe tbody tr th {\n",
       "        vertical-align: top;\n",
       "    }\n",
       "\n",
       "    .dataframe thead th {\n",
       "        text-align: right;\n",
       "    }\n",
       "</style>\n",
       "<table border=\"1\" class=\"dataframe\">\n",
       "  <thead>\n",
       "    <tr style=\"text-align: right;\">\n",
       "      <th></th>\n",
       "      <th></th>\n",
       "      <th>value</th>\n",
       "      <th>type</th>\n",
       "    </tr>\n",
       "    <tr>\n",
       "      <th>feature1</th>\n",
       "      <th>feature2</th>\n",
       "      <th></th>\n",
       "      <th></th>\n",
       "    </tr>\n",
       "  </thead>\n",
       "  <tbody>\n",
       "    <tr>\n",
       "      <th rowspan=\"5\" valign=\"top\">C=O</th>\n",
       "      <th>C=O</th>\n",
       "      <td>0.000000</td>\n",
       "      <td>feature-feature</td>\n",
       "    </tr>\n",
       "    <tr>\n",
       "      <th>Cc(c)c</th>\n",
       "      <td>0.343477</td>\n",
       "      <td>feature-feature</td>\n",
       "    </tr>\n",
       "    <tr>\n",
       "      <th>c-n(c)n</th>\n",
       "      <td>-0.012935</td>\n",
       "      <td>feature-feature</td>\n",
       "    </tr>\n",
       "    <tr>\n",
       "      <th>c=O</th>\n",
       "      <td>-0.343562</td>\n",
       "      <td>feature-feature</td>\n",
       "    </tr>\n",
       "    <tr>\n",
       "      <th>cC</th>\n",
       "      <td>-0.029792</td>\n",
       "      <td>feature-feature</td>\n",
       "    </tr>\n",
       "    <tr>\n",
       "      <th>...</th>\n",
       "      <th>...</th>\n",
       "      <td>...</td>\n",
       "      <td>...</td>\n",
       "    </tr>\n",
       "    <tr>\n",
       "      <th>Ubiquitin carboxyl-terminal hydrolase 25</th>\n",
       "      <th>cc(c)c</th>\n",
       "      <td>2.015672</td>\n",
       "      <td>feature-activity</td>\n",
       "    </tr>\n",
       "    <tr>\n",
       "      <th>CC</th>\n",
       "      <th>Histone-lysine N-methyltransferase SUV39H2</th>\n",
       "      <td>-0.849671</td>\n",
       "      <td>feature-activity</td>\n",
       "    </tr>\n",
       "    <tr>\n",
       "      <th>Ubiquitin carboxyl-terminal hydrolase 28</th>\n",
       "      <th>cc(c)c</th>\n",
       "      <td>1.995351</td>\n",
       "      <td>feature-activity</td>\n",
       "    </tr>\n",
       "    <tr>\n",
       "      <th rowspan=\"2\" valign=\"top\">Sepiapterin reductase</th>\n",
       "      <th>ccs</th>\n",
       "      <td>1.394693</td>\n",
       "      <td>feature-activity</td>\n",
       "    </tr>\n",
       "    <tr>\n",
       "      <th>csc</th>\n",
       "      <td>0.693224</td>\n",
       "      <td>feature-activity</td>\n",
       "    </tr>\n",
       "  </tbody>\n",
       "</table>\n",
       "<p>82528 rows × 2 columns</p>\n",
       "</div>"
      ],
      "text/plain": [
       "                                                                                        value  \\\n",
       "feature1                                 feature2                                               \n",
       "C=O                                      C=O                                         0.000000   \n",
       "                                         Cc(c)c                                      0.343477   \n",
       "                                         c-n(c)n                                    -0.012935   \n",
       "                                         c=O                                        -0.343562   \n",
       "                                         cC                                         -0.029792   \n",
       "...                                                                                       ...   \n",
       "Ubiquitin carboxyl-terminal hydrolase 25 cc(c)c                                      2.015672   \n",
       "CC                                       Histone-lysine N-methyltransferase SUV39H2 -0.849671   \n",
       "Ubiquitin carboxyl-terminal hydrolase 28 cc(c)c                                      1.995351   \n",
       "Sepiapterin reductase                    ccs                                         1.394693   \n",
       "                                         csc                                         0.693224   \n",
       "\n",
       "                                                                                                 type  \n",
       "feature1                                 feature2                                                      \n",
       "C=O                                      C=O                                          feature-feature  \n",
       "                                         Cc(c)c                                       feature-feature  \n",
       "                                         c-n(c)n                                      feature-feature  \n",
       "                                         c=O                                          feature-feature  \n",
       "                                         cC                                           feature-feature  \n",
       "...                                                                                               ...  \n",
       "Ubiquitin carboxyl-terminal hydrolase 25 cc(c)c                                      feature-activity  \n",
       "CC                                       Histone-lysine N-methyltransferase SUV39H2  feature-activity  \n",
       "Ubiquitin carboxyl-terminal hydrolase 28 cc(c)c                                      feature-activity  \n",
       "Sepiapterin reductase                    ccs                                         feature-activity  \n",
       "                                         csc                                         feature-activity  \n",
       "\n",
       "[82528 rows x 2 columns]"
      ]
     },
     "execution_count": 42,
     "metadata": {},
     "output_type": "execute_result"
    }
   ],
   "source": [
    "# Fix the type write-through\n",
    "q.df['type'] = [interrelation_type[sum((x in target_set, y in target_set))]\n",
    "                                   for x, y in zip(q.df.index.get_level_values(0),\n",
    "                                                   q.df.index.get_level_values(1))]\n",
    "q.df"
   ]
  },
  {
   "cell_type": "code",
   "execution_count": 43,
   "metadata": {},
   "outputs": [
    {
     "data": {
      "image/png": "[encoded data removed]",
      "text/plain": [
       "<Figure size 842.4x595.44 with 1 Axes>"
      ]
     },
     "metadata": {},
     "output_type": "display_data"
    }
   ],
   "source": [
    "title = f\"PMI value distribution for {HYBRID_FEATURES_NAME} in {DATASET_NAME}\"\n",
    "a4_dims = (11.7, 8.27)\n",
    "sns.set_style(\"whitegrid\")\n",
    "fig, ax = plt.subplots(figsize=a4_dims)\n",
    "sns.histplot(q.select_raw_interrelations(), binwidth=0.25, x=\"value\", hue=\"type\", multiple=\"stack\")\n",
    "ax.set(title=title, xlabel=f\"PMI value bins within {DATASET_NAME}\", ylabel=f\"{FEATURES_NAME} counts\")\n",
    "plt.savefig(f\"{OUTPUT_FIGURE_PATH}/{title}.svg\", format=\"svg\")\n",
    "#plt.close()"
   ]
  },
  {
   "cell_type": "code",
   "execution_count": 44,
   "metadata": {},
   "outputs": [
    {
     "data": {
      "text/html": [
       "<div>\n",
       "<style scoped>\n",
       "    .dataframe tbody tr th:only-of-type {\n",
       "        vertical-align: middle;\n",
       "    }\n",
       "\n",
       "    .dataframe tbody tr th {\n",
       "        vertical-align: top;\n",
       "    }\n",
       "\n",
       "    .dataframe thead th {\n",
       "        text-align: right;\n",
       "    }\n",
       "</style>\n",
       "<table border=\"1\" class=\"dataframe\">\n",
       "  <thead>\n",
       "    <tr style=\"text-align: right;\">\n",
       "      <th></th>\n",
       "      <th></th>\n",
       "      <th>value</th>\n",
       "      <th>type</th>\n",
       "    </tr>\n",
       "    <tr>\n",
       "      <th>feature1</th>\n",
       "      <th>feature2</th>\n",
       "      <th></th>\n",
       "      <th></th>\n",
       "    </tr>\n",
       "  </thead>\n",
       "  <tbody>\n",
       "    <tr>\n",
       "      <th>Amylin receptor AMY3; CALCR/RAMP3</th>\n",
       "      <th>Calcitonin receptor</th>\n",
       "      <td>13.727699</td>\n",
       "      <td>activity-activity</td>\n",
       "    </tr>\n",
       "    <tr>\n",
       "      <th>Retinoid X receptor beta</th>\n",
       "      <th>Retinoid X receptor gamma</th>\n",
       "      <td>13.497888</td>\n",
       "      <td>activity-activity</td>\n",
       "    </tr>\n",
       "    <tr>\n",
       "      <th>Neuronal acetylcholine receptor; alpha2/beta4</th>\n",
       "      <th>Neuronal acetylcholine receptor; alpha4/beta4</th>\n",
       "      <td>13.486818</td>\n",
       "      <td>activity-activity</td>\n",
       "    </tr>\n",
       "    <tr>\n",
       "      <th>HCC78</th>\n",
       "      <th>NCI-H2228</th>\n",
       "      <td>13.188010</td>\n",
       "      <td>activity-activity</td>\n",
       "    </tr>\n",
       "    <tr>\n",
       "      <th>Integrin alpha-V/beta-6</th>\n",
       "      <th>Integrin alpha-V/beta-8</th>\n",
       "      <td>13.161746</td>\n",
       "      <td>activity-activity</td>\n",
       "    </tr>\n",
       "    <tr>\n",
       "      <th>...</th>\n",
       "      <th>...</th>\n",
       "      <td>...</td>\n",
       "      <td>...</td>\n",
       "    </tr>\n",
       "    <tr>\n",
       "      <th>PRMT5/MEP50 complex</th>\n",
       "      <th>Protein arginine N-methyltransferase 5</th>\n",
       "      <td>11.497524</td>\n",
       "      <td>activity-activity</td>\n",
       "    </tr>\n",
       "    <tr>\n",
       "      <th>LXR-alpha</th>\n",
       "      <th>LXR-beta</th>\n",
       "      <td>11.492114</td>\n",
       "      <td>activity-activity</td>\n",
       "    </tr>\n",
       "    <tr>\n",
       "      <th>Protein kinase C delta</th>\n",
       "      <th>Protein kinase C eta</th>\n",
       "      <td>11.483970</td>\n",
       "      <td>activity-activity</td>\n",
       "    </tr>\n",
       "    <tr>\n",
       "      <th>Homeodomain-interacting protein kinase 2</th>\n",
       "      <th>Mitogen-activated protein kinase kinase kinase kinase 4</th>\n",
       "      <td>11.483274</td>\n",
       "      <td>activity-activity</td>\n",
       "    </tr>\n",
       "    <tr>\n",
       "      <th>Proto-oncogene tyrosine-protein kinase MER</th>\n",
       "      <th>Tyrosine-protein kinase receptor UFO</th>\n",
       "      <td>11.479775</td>\n",
       "      <td>activity-activity</td>\n",
       "    </tr>\n",
       "  </tbody>\n",
       "</table>\n",
       "<p>100 rows × 2 columns</p>\n",
       "</div>"
      ],
      "text/plain": [
       "                                                                                                      value  \\\n",
       "feature1                                      feature2                                                        \n",
       "Amylin receptor AMY3; CALCR/RAMP3             Calcitonin receptor                                 13.727699   \n",
       "Retinoid X receptor beta                      Retinoid X receptor gamma                           13.497888   \n",
       "Neuronal acetylcholine receptor; alpha2/beta4 Neuronal acetylcholine receptor; alpha4/beta4       13.486818   \n",
       "HCC78                                         NCI-H2228                                           13.188010   \n",
       "Integrin alpha-V/beta-6                       Integrin alpha-V/beta-8                             13.161746   \n",
       "...                                                                                                     ...   \n",
       "PRMT5/MEP50 complex                           Protein arginine N-methyltransferase 5              11.497524   \n",
       "LXR-alpha                                     LXR-beta                                            11.492114   \n",
       "Protein kinase C delta                        Protein kinase C eta                                11.483970   \n",
       "Homeodomain-interacting protein kinase 2      Mitogen-activated protein kinase kinase kinase ...  11.483274   \n",
       "Proto-oncogene tyrosine-protein kinase MER    Tyrosine-protein kinase receptor UFO                11.479775   \n",
       "\n",
       "                                                                                                               type  \n",
       "feature1                                      feature2                                                               \n",
       "Amylin receptor AMY3; CALCR/RAMP3             Calcitonin receptor                                 activity-activity  \n",
       "Retinoid X receptor beta                      Retinoid X receptor gamma                           activity-activity  \n",
       "Neuronal acetylcholine receptor; alpha2/beta4 Neuronal acetylcholine receptor; alpha4/beta4       activity-activity  \n",
       "HCC78                                         NCI-H2228                                           activity-activity  \n",
       "Integrin alpha-V/beta-6                       Integrin alpha-V/beta-8                             activity-activity  \n",
       "...                                                                                                             ...  \n",
       "PRMT5/MEP50 complex                           Protein arginine N-methyltransferase 5              activity-activity  \n",
       "LXR-alpha                                     LXR-beta                                            activity-activity  \n",
       "Protein kinase C delta                        Protein kinase C eta                                activity-activity  \n",
       "Homeodomain-interacting protein kinase 2      Mitogen-activated protein kinase kinase kinase ...  activity-activity  \n",
       "Proto-oncogene tyrosine-protein kinase MER    Tyrosine-protein kinase receptor UFO                activity-activity  \n",
       "\n",
       "[100 rows x 2 columns]"
      ]
     },
     "execution_count": 44,
     "metadata": {},
     "output_type": "execute_result"
    }
   ],
   "source": [
    "q.df.loc[q.df.type == 'activity-activity'].sort_values('value', ascending=False)[:100]"
   ]
  },
  {
   "cell_type": "code",
   "execution_count": null,
   "metadata": {},
   "outputs": [],
   "source": []
  }
 ],
 "metadata": {
  "kernelspec": {
   "display_name": "Python 3 (ipykernel)",
   "language": "python",
   "name": "python3"
  },
  "language_info": {
   "codemirror_mode": {
    "name": "ipython",
    "version": 3
   },
   "file_extension": ".py",
   "mimetype": "text/x-python",
   "name": "python",
   "nbconvert_exporter": "python",
   "pygments_lexer": "ipython3",
   "version": "3.7.10"
  }
 },
 "nbformat": 4,
 "nbformat_minor": 1
}